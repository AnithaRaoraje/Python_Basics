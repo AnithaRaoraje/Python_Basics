{
 "cells": [
  {
   "cell_type": "markdown",
   "metadata": {},
   "source": [
    "# operators"
   ]
  },
  {
   "cell_type": "code",
   "execution_count": 17,
   "metadata": {},
   "outputs": [],
   "source": [
    "# operators in python - symbol responsible to perform certain activity\n",
    "# types of different operators in python\n",
    "    # arithmetic operator (+, -, *, /, %, **, // )\n",
    "    # relational operator or comparision operator\n",
    "    # equality operator\n",
    "    # logical operator\n",
    "    # bitwise operator\n",
    "    # shift operator\n",
    "    # assignment operator\n",
    "    # ternary operator\n",
    "    # special operator\n",
    "    #     identity operator\n",
    "    #     membership operator\n",
    "# operator precedence\n",
    "# mathematical functions by using math module"
   ]
  },
  {
   "cell_type": "markdown",
   "metadata": {},
   "source": [
    "# Arithmetic operators"
   ]
  },
  {
   "cell_type": "code",
   "execution_count": 18,
   "metadata": {},
   "outputs": [
    {
     "ename": "SyntaxError",
     "evalue": "invalid syntax (<ipython-input-18-a912ac80f5fa>, line 2)",
     "output_type": "error",
     "traceback": [
      "\u001b[1;36m  File \u001b[1;32m\"<ipython-input-18-a912ac80f5fa>\"\u001b[1;36m, line \u001b[1;32m2\u001b[0m\n\u001b[1;33m    types of arithmetic operator\u001b[0m\n\u001b[1;37m          ^\u001b[0m\n\u001b[1;31mSyntaxError\u001b[0m\u001b[1;31m:\u001b[0m invalid syntax\n"
     ]
    }
   ],
   "source": [
    "# arithmetic operator\n",
    "# types of arithmetic operator\n",
    "# + = addition\n",
    "# - = subtraction\n",
    "# * = multiplication\n",
    "# / = division \n",
    "# % = modulo (remainder operator)\n",
    "# // = floor division operator (python specific operator)\n",
    "# ** = exponential / power operator"
   ]
  },
  {
   "cell_type": "code",
   "execution_count": 21,
   "metadata": {},
   "outputs": [
    {
     "name": "stdout",
     "output_type": "stream",
     "text": [
      "12\n",
      "----------------------------------------------------------------------------------------------------\n",
      "8\n",
      "----------------------------------------------------------------------------------------------------\n",
      "20\n",
      "----------------------------------------------------------------------------------------------------\n",
      "0\n",
      "----------------------------------------------------------------------------------------------------\n",
      "100\n",
      "125\n",
      "----------------------------------------------------------------------------------------------------\n",
      "5.0\n",
      "3.3333333333333335\n",
      "3.3333333333333335\n",
      "8.43673469387755\n",
      "----------------------------------------------------------------------------------------------------\n",
      "5\n",
      "3\n",
      "3.0\n",
      "8.0\n",
      "----------------------------------------------------------------------------------------------------\n"
     ]
    }
   ],
   "source": [
    "a=10\n",
    "b=2\n",
    "\n",
    "# + operator (addition)\n",
    "\n",
    "print(a+b)\n",
    "\n",
    "print(100*'-')\n",
    "\n",
    "# - operator (subtraction)\n",
    "\n",
    "print(a-b)\n",
    "\n",
    "print(100*'-')\n",
    "\n",
    "# * operator (multiplication)\n",
    "\n",
    "print(a*b)\n",
    "\n",
    "print(100*'-')\n",
    "\n",
    "# * operator (modulo operator - remainder)\n",
    "\n",
    "print(a%b)\n",
    "\n",
    "print(100*'-')\n",
    "\n",
    "# ** operator (exponential or power operator)\n",
    "\n",
    "print(a**b) # a to the power of b\n",
    "\n",
    "x=5\n",
    "y=3\n",
    "print (x**y)\n",
    "\n",
    "print(100*'-')\n",
    "\n",
    "# / operator (division operator) - division operator in python always gives float value as result\n",
    "\n",
    "print(a/b)\n",
    "\n",
    "x=10\n",
    "y=3\n",
    "print(x/y)\n",
    "\n",
    "\n",
    "i=10.0\n",
    "f=3\n",
    "print(i/f)\n",
    "\n",
    "g=20.67\n",
    "h=2.45\n",
    "print(g/h)\n",
    "\n",
    "print(100*'-')\n",
    "# // operator (floor division operator) \n",
    "# works for both int type and float type\n",
    "    # if both arguments are int type the result is always int type\n",
    "    # if one or both the arguments are float type then the result is always float type\n",
    "\n",
    "\n",
    "print(a//b)\n",
    "\n",
    "print(x//y) # both the arguments are int type so the result is int type\n",
    "\n",
    "print(i//f) # one of the argument is float type so the result is float type\n",
    "\n",
    "print(g//h) # both the arguments are float type so the result is float type\n",
    "\n",
    "print(100*'-')"
   ]
  },
  {
   "cell_type": "markdown",
   "metadata": {},
   "source": [
    "# arithmetic operators on strings"
   ]
  },
  {
   "cell_type": "code",
   "execution_count": 22,
   "metadata": {},
   "outputs": [
    {
     "name": "stdout",
     "output_type": "stream",
     "text": [
      "pythonprogramming\n",
      "pythonsoftwareprogramming\n",
      "python3.0\n",
      "python3.8\n"
     ]
    }
   ],
   "source": [
    "# arithmetic operators can be performed on strings as well\n",
    "\n",
    "#  + operators on strings (string + string)\n",
    "\n",
    "a='python'\n",
    "b='programming'\n",
    "\n",
    "print(a+b)\n",
    "\n",
    "a='python'\n",
    "b='software'\n",
    "c='programming'\n",
    "\n",
    "print(a+b+c)\n",
    "\n",
    "\n",
    "# + operator on one string and one int value - we get error\n",
    "\n",
    "# x='python' \n",
    "# y=3.0\n",
    "# print(x+y)\n",
    "\n",
    "# ---------------------------------------------------------------------------\n",
    "# TypeError                                 Traceback (most recent call last)\n",
    "# <ipython-input-27-9ced3a96c16e> in <module>\n",
    "#      19 x='python'\n",
    "#      20 y=3.0\n",
    "# ---> 21 print(x+y)\n",
    "\n",
    "# TypeError: can only concatenate str (not \"float\") to str\n",
    "\n",
    "# can concatenate if int or float is in string form\n",
    "\n",
    "\n",
    "x='python' \n",
    "y='3.0'\n",
    "print(x+y)\n",
    "\n",
    "# or\n",
    "\n",
    "x='python' \n",
    "y=str(3.8)\n",
    "print(x+y)"
   ]
  },
  {
   "cell_type": "code",
   "execution_count": 23,
   "metadata": {},
   "outputs": [
    {
     "name": "stdout",
     "output_type": "stream",
     "text": [
      "pythonpythonpythonpythonpythonpythonpythonpythonpythonpython\n",
      "pythonpythonpythonpythonpythonpythonpythonpythonpythonpython\n",
      "----------------------------------------------------------------------------------------------------\n",
      "python\n",
      "----------------------------------------------------------------------------------------------------\n",
      "\n",
      "----------------------------------------------------------------------------------------------------\n"
     ]
    }
   ],
   "source": [
    "# * operator for string objects - acts as string multiplication / repetition operator\n",
    "# one argument has to be string and the other object int, otherwise we get type error (str * int)\n",
    "\n",
    "a='python'\n",
    "b=10\n",
    "print(a*b)  # repeat this string 10 times\n",
    "\n",
    "# or\n",
    "\n",
    "a=10\n",
    "b='python'\n",
    "print(a*b) # repeat 10 times 'python'\n",
    "\n",
    "# * operator cannot be performed between to strings\n",
    "\n",
    "# a='python'\n",
    "# b='programming'\n",
    "# print(a*b)\n",
    "\n",
    "# ---------------------------------------------------------------------------\n",
    "# TypeError                                 Traceback (most recent call last)\n",
    "# <ipython-input-7-f42c79926d0e> in <module>\n",
    "#      15 a='python'\n",
    "#      16 b='programming'\n",
    "# ---> 17 print(a*b)\n",
    "\n",
    "# TypeError: can't multiply sequence by non-int of type 'str'\n",
    "\n",
    "# * operator on bool values (True = 1, False = 0)\n",
    "\n",
    "print(100*'-')\n",
    "\n",
    "a='python'\n",
    "b=True\n",
    "print(a*b)\n",
    "\n",
    "print(100*'-')\n",
    "\n",
    "a='python'\n",
    "b=False\n",
    "print(a*b) # empty string is result\n",
    "\n",
    "print(100*'-')\n"
   ]
  },
  {
   "cell_type": "markdown",
   "metadata": {},
   "source": [
    "# zero division error"
   ]
  },
  {
   "cell_type": "code",
   "execution_count": 24,
   "metadata": {},
   "outputs": [
    {
     "ename": "SyntaxError",
     "evalue": "invalid syntax (<ipython-input-24-354b65e06dbd>, line 10)",
     "output_type": "error",
     "traceback": [
      "\u001b[1;36m  File \u001b[1;32m\"<ipython-input-24-354b65e06dbd>\"\u001b[1;36m, line \u001b[1;32m10\u001b[0m\n\u001b[1;33m    ---------------------------------------------------------------------------\u001b[0m\n\u001b[1;37m                                                                               ^\u001b[0m\n\u001b[1;31mSyntaxError\u001b[0m\u001b[1;31m:\u001b[0m invalid syntax\n"
     ]
    }
   ],
   "source": [
    "# zero division error - anything division by 0 gives zero division error\n",
    "\n",
    "# 10/0, \n",
    "# 10.0/0, \n",
    "# 10//0,\n",
    "# 10.0//0, \n",
    "# 10%0\n",
    "\n",
    "\n",
    "---------------------------------------------------------------------------\n",
    "ZeroDivisionError                         Traceback (most recent call last)\n",
    "<ipython-input-16-d4ec24c96a6d> in <module>\n",
    "      1 # zero division error\n",
    "      2 \n",
    "----> 3 a=10/0\n",
    "      4 print(a)\n",
    "      5 \n",
    "\n",
    "ZeroDivisionError: division by zero"
   ]
  },
  {
   "cell_type": "markdown",
   "metadata": {},
   "source": [
    "# Relational operators - int,str and bool"
   ]
  },
  {
   "cell_type": "code",
   "execution_count": 25,
   "metadata": {},
   "outputs": [
    {
     "name": "stdout",
     "output_type": "stream",
     "text": [
      "True\n",
      "True\n",
      "False\n",
      "False\n",
      "97\n",
      "d\n",
      "True\n",
      "True\n",
      "False\n",
      "False\n",
      "----------------------------------------------------------------------------------------------------\n",
      "False\n",
      "False\n",
      "True\n",
      "True\n",
      "----------------------------------------------------------------------------------------------------\n",
      "False\n",
      "True\n",
      "False\n",
      "True\n",
      "----------------------------------------------------------------------------------------------------\n",
      "True\n",
      "True\n",
      "False\n",
      "False\n",
      "----------------------------------------------------------------------------------------------------\n"
     ]
    }
   ],
   "source": [
    "# Relational operators / comparision operators - can be applies for int, str and bool types as well\n",
    "# >, >=, <, <=\n",
    "\n",
    "a=10\n",
    "b=20\n",
    "\n",
    "print(a<b)\n",
    "print(a<=b)\n",
    "print(a>b)\n",
    "print(a>=b)\n",
    "\n",
    "# relation operators on str will be done based on unicode values or ASCII values\n",
    "# unicode values od ( a=97 ), ( b=98 ) ( A=65 ), ( B=66 )\n",
    "\n",
    "print(ord('a')) # to find unicode value for the given character\n",
    "\n",
    "print(chr(100)) # to find character for the given value\n",
    "\n",
    "a='a'\n",
    "b='b'\n",
    "\n",
    "print(a<b)\n",
    "print(a<=b)\n",
    "print(a>b)\n",
    "print(a>=b)\n",
    "\n",
    "print(100*'-')\n",
    "\n",
    "s1='python'\n",
    "s2='programming'\n",
    "\n",
    "print(s1<s2)\n",
    "print(s1<=s2)\n",
    "print(s1>s2)\n",
    "print(s1>=s2)\n",
    "\n",
    "print(100*'-')\n",
    "\n",
    "s1='python'\n",
    "s2='python'\n",
    "\n",
    "print(s1<s2)\n",
    "print(s1<=s2)\n",
    "print(s1>s2)\n",
    "print(s1>=s2)\n",
    "\n",
    "print(100*'-')\n",
    "\n",
    "s1='PYTHON'\n",
    "s2='python'\n",
    "\n",
    "print(s1<s2)\n",
    "print(s1<=s2)\n",
    "print(s1>s2)\n",
    "print(s1>=s2)\n",
    "\n",
    "\n",
    "#  relational operator cannot be performed between int and str\n",
    "\n",
    "print(100*'-')\n",
    "\n",
    "# s1=100\n",
    "# s2='python'\n",
    "\n",
    "# print(s1<s2)\n",
    "# print(s1<=s2)\n",
    "# print(s1>s2)\n",
    "# print(s1>=s2)\n",
    "\n",
    "# ---------------------------------------------------------------------------\n",
    "# TypeError                                 Traceback (most recent call last)\n",
    "# <ipython-input-35-b26686396aa4> in <module>\n",
    "#      63 s2='python'\n",
    "#      64 \n",
    "# ---> 65 print(s1<s2)\n",
    "#      66 print(s1<=s2)\n",
    "#      67 print(s1>s2)\n",
    "\n",
    "# TypeError: '<' not supported between instances of 'int' and 'str'"
   ]
  },
  {
   "cell_type": "markdown",
   "metadata": {},
   "source": [
    "### relational operator for bool values (True = 1) (False = 0)"
   ]
  },
  {
   "cell_type": "code",
   "execution_count": 26,
   "metadata": {},
   "outputs": [
    {
     "name": "stdout",
     "output_type": "stream",
     "text": [
      "False\n",
      "False\n",
      "True\n",
      "True\n"
     ]
    }
   ],
   "source": [
    "# relational operator for bool values (True = 1) (False = 0)\n",
    "\n",
    "a=True\n",
    "b=False\n",
    "print(a<b)\n",
    "print(a<=b)\n",
    "print(a>b)\n",
    "print(a>=b)\n",
    "\n"
   ]
  },
  {
   "cell_type": "code",
   "execution_count": 27,
   "metadata": {},
   "outputs": [
    {
     "name": "stdout",
     "output_type": "stream",
     "text": [
      "a is not greater than b\n"
     ]
    }
   ],
   "source": [
    "a=10\n",
    "b=20\n",
    "if a>b:\n",
    "    print('a is greater than b')\n",
    "else:\n",
    "    print('a is not greater than b')"
   ]
  },
  {
   "cell_type": "markdown",
   "metadata": {},
   "source": [
    "# chaining comparision of relational operator"
   ]
  },
  {
   "cell_type": "code",
   "execution_count": 28,
   "metadata": {},
   "outputs": [
    {
     "name": "stdout",
     "output_type": "stream",
     "text": [
      "True\n",
      "True\n",
      "True\n",
      "False\n"
     ]
    }
   ],
   "source": [
    "# chaining comparision of relational operator - if atleast one of the comparision is False then the final result if False \n",
    "#  if all the comparisions returns True then the final result is True\n",
    "a=10\n",
    "b=20\n",
    "c=30\n",
    "d=40\n",
    "e=50\n",
    "\n",
    "print(a<b)\n",
    "print(a<b<c)\n",
    "print(a<b<c<d)\n",
    "print(a<b<c<d>e)"
   ]
  },
  {
   "cell_type": "markdown",
   "metadata": {},
   "source": [
    "# equality operators"
   ]
  },
  {
   "cell_type": "code",
   "execution_count": 29,
   "metadata": {},
   "outputs": [
    {
     "name": "stdout",
     "output_type": "stream",
     "text": [
      "True\n",
      "True\n",
      "False\n",
      "True\n",
      "True\n",
      "False\n",
      "False\n",
      "----------\n",
      "False\n",
      "True\n"
     ]
    }
   ],
   "source": [
    "# equality operators - (== and != ) to check whether the given values are equal or not\n",
    "# can be used for int,str and bool types as well\n",
    "print(10==10)\n",
    "\n",
    "print(10!=20)\n",
    "\n",
    "print(1==False)\n",
    "\n",
    "print(10==10.0)\n",
    "\n",
    "print('python'=='python')\n",
    "\n",
    "# for incompatable types we get False as result\n",
    "\n",
    "print(10=='python')\n",
    "\n",
    "print(10=='10')\n",
    "\n",
    "print(10*'-')\n",
    "# chaining of equality operator - if all comparisions returns True then the result is True\n",
    "# If any of the comparisions fails then the result is False\n",
    "\n",
    "print(10==10==10==10==20)\n",
    "\n",
    "print(10!=20!=30!=40!=50)"
   ]
  },
  {
   "cell_type": "markdown",
   "metadata": {},
   "source": [
    "## difference between == operator ans is operator"
   ]
  },
  {
   "cell_type": "code",
   "execution_count": 30,
   "metadata": {},
   "outputs": [
    {
     "name": "stdout",
     "output_type": "stream",
     "text": [
      "2652988820160\n",
      "2652988817728\n",
      "False\n",
      "True\n",
      "****************************************************************************************************\n",
      "2652988820160\n",
      "2652988820160\n",
      "True\n"
     ]
    }
   ],
   "source": [
    "# difference between == operator ans is operator\n",
    "\n",
    "# is - for reference or address comparision\n",
    "# == - for content comparision\n",
    "\n",
    "# no object reusability for list data type\n",
    "l1=[10,20,30]\n",
    "l2=[10,20,30]\n",
    "print(id(l1))\n",
    "print(id(l2))\n",
    "print(l1 is l2) # False coz they dont point to same object and id is different\n",
    "\n",
    "print(l1==l2) # True coz the content is same\n",
    "\n",
    "print(100*'*')\n",
    "\n",
    "l3=l1\n",
    "print(id(l1))\n",
    "print(id(l3))\n",
    "print(l1 is l3) "
   ]
  },
  {
   "cell_type": "markdown",
   "metadata": {},
   "source": [
    "#  logical operators "
   ]
  },
  {
   "cell_type": "code",
   "execution_count": 31,
   "metadata": {},
   "outputs": [
    {
     "name": "stdout",
     "output_type": "stream",
     "text": [
      "True\n",
      "False\n",
      "False\n",
      "False\n",
      "****************************************************************************************************\n",
      "True\n",
      "True\n",
      "True\n",
      "False\n",
      "****************************************************************************************************\n",
      "False\n",
      "True\n"
     ]
    }
   ],
   "source": [
    "#  logical operators - and , or, not\n",
    "# can be applied for boolean and non boolean types\n",
    "\n",
    "# for bool types\n",
    "# and operator - returns True if both the arguments are True\n",
    "            # - returns False if atleast of the argument if False\n",
    "    \n",
    "print(True and True)\n",
    "print(True and False)\n",
    "print(False and True)\n",
    "print(False and False)\n",
    "\n",
    "# or operator - returns True if atleast one the argument is True\n",
    "            # - returns False if both the arguments are False\n",
    "print(100*'*')  \n",
    "    \n",
    "print(True or True)\n",
    "print(True or False)\n",
    "print(False or True)\n",
    "print(False or False)\n",
    "\n",
    "# not operator - not True means False\n",
    "            # - not False means True\n",
    "print(100*'*')  \n",
    "    \n",
    "print(not True)\n",
    "print(not False)\n"
   ]
  },
  {
   "cell_type": "markdown",
   "metadata": {},
   "source": [
    "# basic authentication programme"
   ]
  },
  {
   "cell_type": "code",
   "execution_count": 53,
   "metadata": {},
   "outputs": [
    {
     "name": "stdout",
     "output_type": "stream",
     "text": [
      "Enter Usernameanitha\n",
      "Enter Password2408\n",
      "Valid User\n"
     ]
    }
   ],
   "source": [
    "# basic authentication programme\n",
    "\n",
    "username = input('Enter Username')\n",
    "password = int(input('Enter Password'))\n",
    "if username =='anitha' and password ==2408:\n",
    "    print('Valid User')\n",
    "else:\n",
    "    print('Invalid User')"
   ]
  },
  {
   "cell_type": "markdown",
   "metadata": {},
   "source": [
    "\n",
    "# logical operator for non boolean types"
   ]
  },
  {
   "cell_type": "code",
   "execution_count": 54,
   "metadata": {},
   "outputs": [
    {
     "name": "stdout",
     "output_type": "stream",
     "text": [
      "20\n",
      "0\n",
      "programming\n",
      "****************************************************************************************************\n",
      "\n",
      "****************************************************************************************************\n",
      "10\n",
      "20\n",
      "python\n",
      "list\n",
      "****************************************************************************************************\n",
      "python\n",
      "****************************************************************************************************\n",
      "False\n",
      "True\n",
      "True\n",
      "False\n"
     ]
    }
   ],
   "source": [
    "# logical operator for non boolean types - and, or, not\n",
    "# o means False\n",
    "# empty string, list, set means False\n",
    "# non zero means True\n",
    "\n",
    "# x and y - if x evaluates to False then the result is x\n",
    "        # - if x evaluates to True then the result is y \n",
    "    \n",
    "print(10 and 20) # both values are non zero(True) so result if y i.e 20\n",
    "\n",
    "print(0 and 20) # x value is zero(False) so result if x i.e 0\n",
    "\n",
    "print('python' and 'programming')\n",
    "\n",
    "print(100*'*')\n",
    "\n",
    "print('' and 'python') # empty string\n",
    "\n",
    "print(100*'*')\n",
    "\n",
    "\n",
    "#  or operator\n",
    "\n",
    "# x or y - if x evaluates to True then the result is x\n",
    "        # - if x evaluates to False then the result is y \n",
    "    \n",
    "    \n",
    "print(10 or 20) # both values are non zero(True) so result if x i.e 10\n",
    "\n",
    "print(0 or 20) # x value is zero(False) so result if y i.e 20\n",
    "\n",
    "print('python' or 'programming')\n",
    "\n",
    "print( [] or 'list') # empty list\n",
    "\n",
    "print(100*'*')\n",
    "\n",
    "print('' or 'python')\n",
    "\n",
    "\n",
    "# not operator for non boolean types - result is always boolean type\n",
    "\n",
    "# not True means False\n",
    "# not False means True\n",
    "\n",
    "print(100*'*')\n",
    "\n",
    "print(not'python') # not True means False\n",
    "\n",
    "print(not '') # not False means True\n",
    "\n",
    "print(not 0)\n",
    "\n",
    "print(not 20)"
   ]
  },
  {
   "cell_type": "markdown",
   "metadata": {},
   "source": [
    "# bitwise operators"
   ]
  },
  {
   "cell_type": "code",
   "execution_count": 55,
   "metadata": {},
   "outputs": [
    {
     "name": "stdout",
     "output_type": "stream",
     "text": [
      "4\n",
      "False\n"
     ]
    }
   ],
   "source": [
    "# bitwise operators - can be applied for int and bool types only\n",
    "# & = bitwise and\n",
    "# | = bitwise OR\n",
    "# ^ = bitwise x-OR\n",
    "# ~ = bitwise complement\n",
    "# << = bitwise left-shift operator\n",
    "# >> = bitwise right-shift operator\n",
    "\n",
    "print(4&5)\n",
    "print(True&False)\n",
    "\n",
    "# print(10.8&29.7)\n",
    "# ---------------------------------------------------------------------------\n",
    "# TypeError                                 Traceback (most recent call last)\n",
    "# <ipython-input-90-18b9c020d25c> in <module>\n",
    "#       9 print(4&5)\n",
    "#      10 \n",
    "# ---> 11 print(10.8&29.7)\n",
    "\n",
    "# TypeError: unsupported operand type(s) for &: 'float' and 'float'\n",
    "\n",
    "\n",
    "# print('python'&'programming')\n",
    "# ---------------------------------------------------------------------------\n",
    "# TypeError                                 Traceback (most recent call last)\n",
    "# <ipython-input-91-3540cc5d24ad> in <module>\n",
    "#      19 # TypeError: unsupported operand type(s) for &: 'float' and 'float'\n",
    "#      20 \n",
    "# ---> 21 print('python'&'proigramming')\n",
    "\n",
    "# TypeError: unsupported operand type(s) for &: 'str' and 'str'\n"
   ]
  },
  {
   "cell_type": "markdown",
   "metadata": {},
   "source": [
    "# bitwise & operator for bool type"
   ]
  },
  {
   "cell_type": "code",
   "execution_count": 56,
   "metadata": {},
   "outputs": [
    {
     "name": "stdout",
     "output_type": "stream",
     "text": [
      "True\n",
      "False\n",
      "False\n",
      "False\n",
      "1\n",
      "0\n",
      "0\n",
      "0\n",
      "4\n"
     ]
    }
   ],
   "source": [
    "# bitwise & operator for bool type\n",
    "\n",
    "print(True&True)\n",
    "print(True&False)\n",
    "print(False&True)\n",
    "print(False&False)\n",
    "\n",
    "# bitwise & operator for int type (converting the int into binary format)\n",
    "# if both bits are 1 then the result is 1\n",
    "# if any of the bit is 0 then the result is o\n",
    "\n",
    "print(1&1)\n",
    "print(1&0)\n",
    "print(0&1)\n",
    "print(0&0)\n",
    "\n",
    "print(4&5)\n"
   ]
  },
  {
   "cell_type": "markdown",
   "metadata": {},
   "source": [
    "# bitwise | operator for bool type"
   ]
  },
  {
   "cell_type": "code",
   "execution_count": 57,
   "metadata": {},
   "outputs": [
    {
     "name": "stdout",
     "output_type": "stream",
     "text": [
      "True\n",
      "True\n",
      "True\n",
      "False\n",
      "1\n",
      "1\n",
      "1\n",
      "0\n",
      "11\n"
     ]
    }
   ],
   "source": [
    "# bitwise | operator for bool type\n",
    "\n",
    "print(True|True)\n",
    "print(True|False)\n",
    "print(False|True)\n",
    "print(False|False)\n",
    "\n",
    "# bitwise | operator for int type (converting the int into binary format)\n",
    "# if atleast one bit is 1 then the result is 1 otherwise 0\n",
    "\n",
    "print(1|1)\n",
    "print(1|0)\n",
    "print(0|1)\n",
    "print(0|0)\n",
    "\n",
    "print(8|3)"
   ]
  },
  {
   "cell_type": "markdown",
   "metadata": {},
   "source": [
    "# bitwise ^ (x-OR) operator - exclusive OR"
   ]
  },
  {
   "cell_type": "code",
   "execution_count": 58,
   "metadata": {},
   "outputs": [
    {
     "name": "stdout",
     "output_type": "stream",
     "text": [
      "False\n",
      "True\n",
      "True\n",
      "False\n",
      "0\n",
      "1\n",
      "1\n",
      "0\n",
      "13\n"
     ]
    }
   ],
   "source": [
    "# bitwise ^ (x-OR) operator - exclusive OR\n",
    "# eg. if cat and dog are there it can either be cat or dog but not both\n",
    "\n",
    "# bitwise ^ operator for bool type\n",
    "\n",
    "print(True^True)\n",
    "print(True^False)\n",
    "print(False^True)\n",
    "print(False^False)\n",
    "\n",
    "# bitwise ^ operator for non-bool type\n",
    "# if both bits are different then the result is 1 otherwise 0\n",
    "\n",
    "print(1^1)\n",
    "print(1^0)\n",
    "print(0^1)\n",
    "print(0^0)\n",
    "\n",
    "print(9^4)\n"
   ]
  },
  {
   "cell_type": "markdown",
   "metadata": {},
   "source": [
    "# bitwise complement operator (~) "
   ]
  },
  {
   "cell_type": "code",
   "execution_count": 59,
   "metadata": {},
   "outputs": [],
   "source": [
    "# bitwise complement operator (~) - \n",
    "# most significant bit (MSB) acts as sign bit - ( left most bit )\n",
    "# o for positive number\n",
    "# 1 for negative number\n",
    "# positive numbers will be represented directly in the memory\n",
    "# negative numbers will be represented in 2's complement form\n",
    "        # to find 2's complement first find 1's complement(flipping 0's and 1's)\n",
    "        # 2's complement if 1's complement + 1"
   ]
  },
  {
   "cell_type": "code",
   "execution_count": 60,
   "metadata": {},
   "outputs": [
    {
     "name": "stdout",
     "output_type": "stream",
     "text": [
      "15\n"
     ]
    }
   ],
   "source": [
    "print(~-16)"
   ]
  },
  {
   "cell_type": "code",
   "execution_count": 61,
   "metadata": {},
   "outputs": [
    {
     "name": "stdout",
     "output_type": "stream",
     "text": [
      "254\n"
     ]
    }
   ],
   "source": [
    "print(~-255)"
   ]
  },
  {
   "cell_type": "code",
   "execution_count": 62,
   "metadata": {},
   "outputs": [
    {
     "name": "stdout",
     "output_type": "stream",
     "text": [
      "7999\n"
     ]
    }
   ],
   "source": [
    "print(~-8000)"
   ]
  },
  {
   "cell_type": "code",
   "execution_count": 63,
   "metadata": {},
   "outputs": [
    {
     "name": "stdout",
     "output_type": "stream",
     "text": [
      "18446744073709551616\n"
     ]
    }
   ],
   "source": [
    "print(2**64)"
   ]
  },
  {
   "cell_type": "code",
   "execution_count": 64,
   "metadata": {},
   "outputs": [
    {
     "name": "stdout",
     "output_type": "stream",
     "text": [
      "18446744073709551615\n"
     ]
    }
   ],
   "source": [
    "print(~-2**64)"
   ]
  },
  {
   "cell_type": "code",
   "execution_count": 65,
   "metadata": {},
   "outputs": [
    {
     "name": "stdout",
     "output_type": "stream",
     "text": [
      "12\n",
      "32\n"
     ]
    }
   ],
   "source": [
    "print(4+(~-9))\n",
    "print(4*(~-9))"
   ]
  },
  {
   "cell_type": "markdown",
   "metadata": {},
   "source": [
    "# bitwise shift operator "
   ]
  },
  {
   "cell_type": "code",
   "execution_count": 66,
   "metadata": {},
   "outputs": [
    {
     "name": "stdout",
     "output_type": "stream",
     "text": [
      "72 0b10010\n",
      "-72 -0b10010\n",
      "4\n",
      "0 0b100\n",
      "32 0b100\n",
      "0 0b1\n",
      "4\n",
      "0 0b0\n",
      "0\n"
     ]
    }
   ],
   "source": [
    "# bitwise shift operator \n",
    "# << - left shift operator\n",
    "# >> - right shift operator\n",
    "\n",
    "# most significant bit is a sign bit\n",
    "# 0 means positive number\n",
    "# 1 means negative number\n",
    "# shift operator does not affect the sign bit\n",
    "\n",
    "print(18<<2, bin(18))\n",
    "print(-18<<2, bin(-18))\n",
    "\n",
    "print(18>>2)\n",
    "print(4>>3, bin(4))\n",
    "print(4<<3, bin(4))\n",
    "\n",
    "print(True>>2 , bin(True))\n",
    "print(True<<2)\n",
    "\n",
    "print(False>>4, bin(False))\n",
    "print(False<<10)"
   ]
  },
  {
   "cell_type": "markdown",
   "metadata": {},
   "source": [
    "# Assignment operator - ="
   ]
  },
  {
   "cell_type": "code",
   "execution_count": 67,
   "metadata": {},
   "outputs": [
    {
     "name": "stdout",
     "output_type": "stream",
     "text": [
      "10\n",
      "30\n",
      "0\n",
      "216\n"
     ]
    }
   ],
   "source": [
    "# Assignment operator - assigning a value to a variable (=)\n",
    "# assignment operator combined with other other operator is called compound assignment operator \n",
    "        # +=, -=, *=, **=, /=, //=, %=\n",
    "        # &=, |=, ^=, <<=, >>=\n",
    "\n",
    "x=10\n",
    "print(x)\n",
    "\n",
    "x+=20\n",
    "print(x)\n",
    "\n",
    "x=10\n",
    "x&=5\n",
    "print(x)\n",
    "\n",
    "x=6\n",
    "x**=3\n",
    "print(x)\n"
   ]
  },
  {
   "cell_type": "code",
   "execution_count": 68,
   "metadata": {},
   "outputs": [
    {
     "ename": "SyntaxError",
     "evalue": "invalid syntax (<ipython-input-68-1a0373d4e320>, line 4)",
     "output_type": "error",
     "traceback": [
      "\u001b[1;36m  File \u001b[1;32m\"<ipython-input-68-1a0373d4e320>\"\u001b[1;36m, line \u001b[1;32m4\u001b[0m\n\u001b[1;33m    x++\u001b[0m\n\u001b[1;37m       ^\u001b[0m\n\u001b[1;31mSyntaxError\u001b[0m\u001b[1;31m:\u001b[0m invalid syntax\n"
     ]
    }
   ],
   "source": [
    "# increment(++) and decrement (--) operator are not available in python\n",
    "\n",
    "# x=10\n",
    "# x++\n",
    "# print(x)"
   ]
  },
  {
   "cell_type": "code",
   "execution_count": 69,
   "metadata": {},
   "outputs": [
    {
     "name": "stdout",
     "output_type": "stream",
     "text": [
      "10\n",
      "10\n",
      "-10\n",
      "10\n",
      "-10\n"
     ]
    }
   ],
   "source": [
    "# sign symbol only but not increment or decrement operator\n",
    "x=10\n",
    "print(++x)\n",
    "print(+++++++x)\n",
    "print(-x)\n",
    "print(----x) \n",
    "print(--(-----x))"
   ]
  },
  {
   "cell_type": "markdown",
   "metadata": {},
   "source": [
    "### ternary operator - operator applicable for three arguments"
   ]
  },
  {
   "cell_type": "code",
   "execution_count": 70,
   "metadata": {},
   "outputs": [
    {
     "name": "stdout",
     "output_type": "stream",
     "text": [
      "30\n",
      "40\n"
     ]
    }
   ],
   "source": [
    "# ternary operator - operator applicable for three arguments\n",
    "# operator applicable for one arguments - unary argument(~4)\n",
    "# operator applicable for two arguments - binary(a+b, a-b)\n",
    "\n",
    "# ternary operator\n",
    "\n",
    "a=10\n",
    " b=20\n",
    "if a<b:\n",
    "    c = 30\n",
    "else:\n",
    "    c = 40\n",
    "print(c)\n",
    "\n",
    "\n",
    "c = 30 if a>b else 40\n",
    "print(c)\n",
    "\n"
   ]
  },
  {
   "cell_type": "code",
   "execution_count": 84,
   "metadata": {},
   "outputs": [
    {
     "name": "stdout",
     "output_type": "stream",
     "text": [
      "Enter Value1: 56\n",
      "Enter Value2: 68\n",
      "Minimum Value = 56\n",
      "56 is less than 68\n"
     ]
    }
   ],
   "source": [
    "# read 2 values from the key board and print the min value\n",
    "\n",
    "value1 = eval(input('Enter Value1: '))\n",
    "value2 = eval(input('Enter Value2: '))\n",
    "if value1<value2:\n",
    "    print('Minimum Value =',value1)\n",
    "    print(value1,'is less than',value2)\n",
    "else:\n",
    "    print('Maximum Value =',value2)\n",
    "    print(value1,'is greater than',value2)"
   ]
  },
  {
   "cell_type": "markdown",
   "metadata": {},
   "source": [
    "#### Nesting of ternary operator"
   ]
  },
  {
   "cell_type": "code",
   "execution_count": 83,
   "metadata": {},
   "outputs": [
    {
     "name": "stdout",
     "output_type": "stream",
     "text": [
      "Enter 1st Value: 27\n",
      "Enter 2nd Value: 90\n",
      "Enter 3rd Value: 82\n",
      "Minimum: 27\n"
     ]
    }
   ],
   "source": [
    "# read 3 values from the key board and print the min of 3 value\n",
    "value1 = int(input('Enter 1st Value: '))\n",
    "value2 = int(input('Enter 2nd Value: '))\n",
    "value3 = int(input('Enter 3rd Value: '))\n",
    "\n",
    "if value1<value2 and value1<value3:\n",
    "    print('Minimum:',value1)\n",
    "elif value2<value3:\n",
    "    print('Minimum:',value2)\n",
    "else:\n",
    "    print('Minimum:',value3)\n",
    "    "
   ]
  },
  {
   "cell_type": "code",
   "execution_count": 74,
   "metadata": {},
   "outputs": [
    {
     "name": "stdout",
     "output_type": "stream",
     "text": [
      "Enter 1st Value: 37\n",
      "Enter 2nd Value: 49\n",
      "Enter 3rd Value: 29\n",
      "Minimum Value: 29\n",
      "Maximum Value: 49\n"
     ]
    }
   ],
   "source": [
    "# read 3 values from the key board and print the max of 3 value\n",
    "value1 = int(input('Enter 1st Value: '))\n",
    "value2 = int(input('Enter 2nd Value: '))\n",
    "value3 = int(input('Enter 3rd Value: '))\n",
    "\n",
    "min=value1 if value1<value2 and value1<value3 else value2 if value2<value3 else value3\n",
    "print('Minimum Value:',min)\n",
    "\n",
    "max=value1 if value1>value2 and value1>value3 else value2 if value2>value3 else value3\n",
    "print('Maximum Value:',max)\n",
    "\n"
   ]
  },
  {
   "cell_type": "code",
   "execution_count": 89,
   "metadata": {
    "scrolled": true
   },
   "outputs": [
    {
     "name": "stdout",
     "output_type": "stream",
     "text": [
      "Enter 1st Value: 78\n",
      "Enter 2nd Value: 78\n",
      "Equal\n"
     ]
    }
   ],
   "source": [
    "# read 2 values from the key board and compare if 2 no's are equal or not\n",
    "a = int(input('Enter 1st Value: '))\n",
    "b = int(input('Enter 2nd Value: '))\n",
    "\n",
    "Result='Equal' if (a==b) else 'Smaller' if (a<b) else 'Bigger'\n",
    "print(Result)"
   ]
  },
  {
   "cell_type": "markdown",
   "metadata": {},
   "source": [
    "# special Operators"
   ]
  },
  {
   "cell_type": "markdown",
   "metadata": {},
   "source": [
    "###### Identity Operators - is, is not"
   ]
  },
  {
   "cell_type": "code",
   "execution_count": 90,
   "metadata": {},
   "outputs": [],
   "source": [
    "# is operator returns True if and only both references point to the same object\n",
    "# otherwise returns False"
   ]
  },
  {
   "cell_type": "code",
   "execution_count": 105,
   "metadata": {},
   "outputs": [
    {
     "name": "stdout",
     "output_type": "stream",
     "text": [
      "True\n",
      "True\n",
      "True\n",
      "False\n",
      "True\n"
     ]
    }
   ],
   "source": [
    "x=10\n",
    "y=10\n",
    "print(x is y)\n",
    "\n",
    "a='python'\n",
    "b='python'\n",
    "print(a is b)\n",
    "\n",
    "a=True\n",
    "b=True\n",
    "print(a is b)\n",
    "\n",
    "# object reusability is there is fundamental data types \n",
    "# but not in other data types and complex data type\n",
    "\n",
    "l1=[10,20,30,40,50]\n",
    "l2=[10,20,30,40,50]\n",
    "print(l1 is l2) # coz there is no object reusability and the id's are different\n",
    "print(l1==l2) # == operator is for content comparision so True"
   ]
  },
  {
   "cell_type": "code",
   "execution_count": 95,
   "metadata": {},
   "outputs": [
    {
     "name": "stdout",
     "output_type": "stream",
     "text": [
      "False\n"
     ]
    }
   ],
   "source": [
    "a=73\n",
    "b=48\n",
    "print(a is b)"
   ]
  },
  {
   "cell_type": "code",
   "execution_count": 96,
   "metadata": {},
   "outputs": [],
   "source": [
    "# is not operator returns True if and only both references does not point to the same object\n",
    "# otherwise returns True"
   ]
  },
  {
   "cell_type": "code",
   "execution_count": 97,
   "metadata": {},
   "outputs": [
    {
     "name": "stdout",
     "output_type": "stream",
     "text": [
      "False\n"
     ]
    }
   ],
   "source": [
    "a=10\n",
    "b=10\n",
    "print(a is not b)"
   ]
  },
  {
   "cell_type": "code",
   "execution_count": 98,
   "metadata": {},
   "outputs": [
    {
     "name": "stdout",
     "output_type": "stream",
     "text": [
      "True\n"
     ]
    }
   ],
   "source": [
    "a=73\n",
    "b=48\n",
    "print(a is not b)"
   ]
  },
  {
   "cell_type": "markdown",
   "metadata": {},
   "source": [
    "# Membership operators - in, not in"
   ]
  },
  {
   "cell_type": "code",
   "execution_count": 112,
   "metadata": {
    "scrolled": true
   },
   "outputs": [
    {
     "name": "stdout",
     "output_type": "stream",
     "text": [
      "True\n",
      "True\n",
      "False\n",
      "False\n",
      "----------------------------------------------------------------------------------------------------\n",
      "True\n",
      "True\n"
     ]
    }
   ],
   "source": [
    "s='python is a programming language'\n",
    "print('m' in s)\n",
    "print('is' in s)\n",
    "print('IS' in s) # Case sensitive so we get False as result\n",
    "print('d' in s)\n",
    "\n",
    "print(100*'-')\n",
    "\n",
    "print('z' not in s)\n",
    "print('d' not in s)"
   ]
  },
  {
   "cell_type": "markdown",
   "metadata": {},
   "source": [
    "# Operator Precedence in python"
   ]
  },
  {
   "cell_type": "code",
   "execution_count": null,
   "metadata": {},
   "outputs": [],
   "source": [
    "# () : parenthesis\n",
    "# ** : Exponential operator\n",
    "# ~,- : Bitwise complement operator, Unary minus operator\n",
    "# *,/,%,// : Multiplication, Division, Modulo, Floor division\n",
    "# +,- : Addition, Subtraction\n",
    "# <<,>> : Left Shift and Right Shift operator\n",
    "# & : Bitwise and Operator\n",
    "# ^ : Bitwise X-OR Operator\n",
    "# | : Bitwise OR Operator\n",
    "# <,<=,>,>=,==,!= : Relational or Comparision operators\n",
    "# =,+=,-=,*= : Assignment Operator\n",
    "# is, is not : Identity operator\n",
    "# in, not in : Membership operator\n",
    "# not : Logical not\n",
    "# and : Logical and\n",
    "# or : Logical or"
   ]
  },
  {
   "cell_type": "code",
   "execution_count": 115,
   "metadata": {},
   "outputs": [
    {
     "name": "stdout",
     "output_type": "stream",
     "text": [
      "15.0\n"
     ]
    }
   ],
   "source": [
    "a=3/2*4+3+(10/5)**3-2\n",
    "print(a)"
   ]
  },
  {
   "cell_type": "markdown",
   "metadata": {},
   "source": [
    "# Mathematical functions from math module"
   ]
  },
  {
   "cell_type": "code",
   "execution_count": 1,
   "metadata": {},
   "outputs": [],
   "source": [
    "# Module - collections of variables, functions and classes saved in a python file is called as module\n",
    "# every python file if module\n",
    "# we can use a module to perform certain operations in an other file using import statement (code reusability)\n"
   ]
  },
  {
   "cell_type": "markdown",
   "metadata": {},
   "source": [
    "##### various possible ways to import a module (math module)"
   ]
  },
  {
   "cell_type": "code",
   "execution_count": 2,
   "metadata": {},
   "outputs": [],
   "source": [
    "# python will use the recent member to use a function, variable, classes\n",
    "        # if two or more members contain the same function, variable or class\n"
   ]
  },
  {
   "cell_type": "markdown",
   "metadata": {},
   "source": [
    "##### important functions present in math module"
   ]
  },
  {
   "cell_type": "code",
   "execution_count": 3,
   "metadata": {},
   "outputs": [],
   "source": [
    "# there are various functions present in math module\n",
    "        # sqrt, floor, ceil, power, gcd(greatest common divider), sin, cos, tan\n",
    "# variables present in math module\n",
    "        # pi, e, inf(infinity), nan(not a number)"
   ]
  },
  {
   "cell_type": "code",
   "execution_count": 14,
   "metadata": {},
   "outputs": [
    {
     "name": "stdout",
     "output_type": "stream",
     "text": [
      "Enter Radius: 5\n",
      "Area of circle: 78.53981633974483\n",
      "Area of circle using pow operator: 78.53981633974483\n"
     ]
    }
   ],
   "source": [
    "# Find area of circle using radius \n",
    "from math import *\n",
    "rad=int(input('Enter Radius: '))\n",
    "rad1=pi*rad**2\n",
    "print('Area of circle:',rad1)\n",
    "rad2 = pi*pow(rad,2)\n",
    "print('Area of circle using pow operator:',rad2)"
   ]
  },
  {
   "cell_type": "code",
   "execution_count": 15,
   "metadata": {},
   "outputs": [],
   "source": [
    "# python contains several inbuilt modules such as \n",
    "# math\n",
    "# random\n",
    "# time\n",
    "# threading"
   ]
  },
  {
   "cell_type": "code",
   "execution_count": 16,
   "metadata": {},
   "outputs": [
    {
     "name": "stdout",
     "output_type": "stream",
     "text": [
      "['__doc__', '__loader__', '__name__', '__package__', '__spec__', 'acos', 'acosh', 'asin', 'asinh', 'atan', 'atan2', 'atanh', 'ceil', 'comb', 'copysign', 'cos', 'cosh', 'degrees', 'dist', 'e', 'erf', 'erfc', 'exp', 'expm1', 'fabs', 'factorial', 'floor', 'fmod', 'frexp', 'fsum', 'gamma', 'gcd', 'hypot', 'inf', 'isclose', 'isfinite', 'isinf', 'isnan', 'isqrt', 'ldexp', 'lgamma', 'log', 'log10', 'log1p', 'log2', 'modf', 'nan', 'perm', 'pi', 'pow', 'prod', 'radians', 'remainder', 'sin', 'sinh', 'sqrt', 'tan', 'tanh', 'tau', 'trunc']\n"
     ]
    }
   ],
   "source": [
    "import math\n",
    "print(dir(math))"
   ]
  },
  {
   "cell_type": "code",
   "execution_count": 17,
   "metadata": {},
   "outputs": [
    {
     "name": "stdout",
     "output_type": "stream",
     "text": [
      "['_STRUCT_TM_ITEMS', '__doc__', '__loader__', '__name__', '__package__', '__spec__', 'altzone', 'asctime', 'ctime', 'daylight', 'get_clock_info', 'gmtime', 'localtime', 'mktime', 'monotonic', 'monotonic_ns', 'perf_counter', 'perf_counter_ns', 'process_time', 'process_time_ns', 'sleep', 'strftime', 'strptime', 'struct_time', 'thread_time', 'thread_time_ns', 'time', 'time_ns', 'timezone', 'tzname']\n"
     ]
    }
   ],
   "source": [
    "import time\n",
    "print(dir(time))"
   ]
  },
  {
   "cell_type": "code",
   "execution_count": 19,
   "metadata": {},
   "outputs": [
    {
     "name": "stdout",
     "output_type": "stream",
     "text": [
      "['BPF', 'LOG4', 'NV_MAGICCONST', 'RECIP_BPF', 'Random', 'SG_MAGICCONST', 'SystemRandom', 'TWOPI', '_Sequence', '_Set', '__all__', '__builtins__', '__cached__', '__doc__', '__file__', '__loader__', '__name__', '__package__', '__spec__', '_accumulate', '_acos', '_bisect', '_ceil', '_cos', '_e', '_exp', '_inst', '_log', '_os', '_pi', '_random', '_repeat', '_sha512', '_sin', '_sqrt', '_test', '_test_generator', '_urandom', '_warn', 'betavariate', 'choice', 'choices', 'expovariate', 'gammavariate', 'gauss', 'getrandbits', 'getstate', 'lognormvariate', 'normalvariate', 'paretovariate', 'randint', 'random', 'randrange', 'sample', 'seed', 'setstate', 'shuffle', 'triangular', 'uniform', 'vonmisesvariate', 'weibullvariate']\n"
     ]
    }
   ],
   "source": [
    "import random\n",
    "print(dir(random))"
   ]
  },
  {
   "cell_type": "code",
   "execution_count": 20,
   "metadata": {},
   "outputs": [
    {
     "name": "stdout",
     "output_type": "stream",
     "text": [
      "['Barrier', 'BoundedSemaphore', 'BrokenBarrierError', 'Condition', 'Event', 'ExceptHookArgs', 'Lock', 'RLock', 'Semaphore', 'TIMEOUT_MAX', 'Thread', 'ThreadError', 'Timer', 'WeakSet', '_CRLock', '_DummyThread', '_HAVE_THREAD_NATIVE_ID', '_MainThread', '_PyRLock', '_RLock', '__all__', '__builtins__', '__cached__', '__doc__', '__file__', '__loader__', '__name__', '__package__', '__spec__', '_active', '_active_limbo_lock', '_after_fork', '_allocate_lock', '_count', '_counter', '_dangling', '_deque', '_enumerate', '_islice', '_limbo', '_main_thread', '_make_invoke_excepthook', '_newname', '_os', '_profile_hook', '_set_sentinel', '_shutdown', '_shutdown_locks', '_shutdown_locks_lock', '_start_new_thread', '_sys', '_time', '_trace_hook', 'activeCount', 'active_count', 'currentThread', 'current_thread', 'enumerate', 'excepthook', 'get_ident', 'get_native_id', 'local', 'main_thread', 'setprofile', 'settrace', 'stack_size']\n"
     ]
    }
   ],
   "source": [
    "import threading\n",
    "print(dir(threading))"
   ]
  },
  {
   "cell_type": "code",
   "execution_count": 29,
   "metadata": {},
   "outputs": [
    {
     "name": "stdout",
     "output_type": "stream",
     "text": [
      "4.0\n",
      "16.0\n",
      "3.141592653589793\n",
      "2.718281828459045\n",
      "3\n",
      "6\n"
     ]
    }
   ],
   "source": [
    "import math\n",
    "print(math.sqrt(16))\n",
    "print(math.pow(4,2))\n",
    "print(math.pi)\n",
    "print(math.e)\n",
    "print(math.floor(3.89))\n",
    "print(math.ceil(5.09))"
   ]
  },
  {
   "cell_type": "code",
   "execution_count": 1,
   "metadata": {},
   "outputs": [
    {
     "name": "stdout",
     "output_type": "stream",
     "text": [
      "4.0\n",
      "16.0\n",
      "3.141592653589793\n",
      "2.718281828459045\n",
      "3\n",
      "6\n"
     ]
    },
    {
     "ename": "NameError",
     "evalue": "name 'math' is not defined",
     "output_type": "error",
     "traceback": [
      "\u001b[1;31m---------------------------------------------------------------------------\u001b[0m",
      "\u001b[1;31mNameError\u001b[0m                                 Traceback (most recent call last)",
      "\u001b[1;32m<ipython-input-1-8b4a4dd95f5d>\u001b[0m in \u001b[0;36m<module>\u001b[1;34m\u001b[0m\n\u001b[0;32m     11\u001b[0m \u001b[1;31m# after giving alias name we cannot us the full name again\u001b[0m\u001b[1;33m\u001b[0m\u001b[1;33m\u001b[0m\u001b[1;33m\u001b[0m\u001b[0m\n\u001b[0;32m     12\u001b[0m \u001b[1;33m\u001b[0m\u001b[0m\n\u001b[1;32m---> 13\u001b[1;33m \u001b[0mprint\u001b[0m\u001b[1;33m(\u001b[0m\u001b[0mmath\u001b[0m\u001b[1;33m.\u001b[0m\u001b[0msqrt\u001b[0m\u001b[1;33m(\u001b[0m\u001b[1;36m64\u001b[0m\u001b[1;33m)\u001b[0m\u001b[1;33m)\u001b[0m\u001b[1;33m\u001b[0m\u001b[1;33m\u001b[0m\u001b[0m\n\u001b[0m",
      "\u001b[1;31mNameError\u001b[0m: name 'math' is not defined"
     ]
    }
   ],
   "source": [
    "# we can import module using alias name \n",
    "\n",
    "import math as m \n",
    "print(m.sqrt(16))\n",
    "print(m.pow(4,2))\n",
    "print(m.pi)\n",
    "print(m.e)\n",
    "print(m.floor(3.89))\n",
    "print(m.ceil(5.09))\n",
    "\n",
    "# after giving alias name we cannot us the full name again \n",
    "\n",
    "# print(math.sqrt(64))\n",
    "# ---------------------------------------------------------------------------\n",
    "# NameError                                 Traceback (most recent call last)\n",
    "# <ipython-input-1-8b4a4dd95f5d> in <module>\n",
    "#      11 # after giving alias name we cannot us the full name again\n",
    "#      12 \n",
    "# ---> 13 print(math.sqrt(64))\n",
    "\n",
    "# NameError: name 'math' is not defined\n"
   ]
  },
  {
   "cell_type": "code",
   "execution_count": 7,
   "metadata": {},
   "outputs": [
    {
     "name": "stdout",
     "output_type": "stream",
     "text": [
      "9.0\n",
      "3.141592653589793\n",
      "----------------------------------------------------------------------------------------------------\n",
      "10.0\n",
      "2.718281828459045\n",
      "4\n",
      "5\n",
      "----------------------------------------------------------------------------------------------------\n",
      "10.0\n",
      "3.141592653589793\n",
      "3\n"
     ]
    }
   ],
   "source": [
    "# we can import just the functions or variables only\n",
    "\n",
    "from math import sqrt,pi\n",
    "\n",
    "print(sqrt(81))\n",
    "\n",
    "print(pi)\n",
    "\n",
    "print(100*'-')\n",
    "\n",
    "# or we can import all the functions and variables\n",
    "\n",
    "from math import *\n",
    "\n",
    "print(sqrt(100))\n",
    "\n",
    "print(e)\n",
    "\n",
    "print(floor(4.68))\n",
    "\n",
    "print(ceil(4.68))\n",
    "\n",
    "print(100*'-')\n",
    "\n",
    "# alias name for the variables \n",
    "from math import sqrt as s,pi as p,ceil as c\n",
    "print(s(100))\n",
    "print(pi)\n",
    "print(c(2.0056))"
   ]
  },
  {
   "cell_type": "code",
   "execution_count": null,
   "metadata": {},
   "outputs": [],
   "source": []
  }
 ],
 "metadata": {
  "kernelspec": {
   "display_name": "Python 3",
   "language": "python",
   "name": "python3"
  },
  "language_info": {
   "codemirror_mode": {
    "name": "ipython",
    "version": 3
   },
   "file_extension": ".py",
   "mimetype": "text/x-python",
   "name": "python",
   "nbconvert_exporter": "python",
   "pygments_lexer": "ipython3",
   "version": "3.8.5"
  }
 },
 "nbformat": 4,
 "nbformat_minor": 4
}
