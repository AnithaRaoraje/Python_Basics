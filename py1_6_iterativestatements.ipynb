{
 "cells": [
  {
   "cell_type": "markdown",
   "metadata": {},
   "source": [
    "# Iterative statements"
   ]
  },
  {
   "cell_type": "code",
   "execution_count": 1,
   "metadata": {},
   "outputs": [],
   "source": [
    "# excecuting a group of statements multiple times is called iterative statements\n",
    "    # for loop\n",
    "    # while loop"
   ]
  },
  {
   "cell_type": "markdown",
   "metadata": {},
   "source": [
    "# for loop"
   ]
  },
  {
   "cell_type": "code",
   "execution_count": 21,
   "metadata": {},
   "outputs": [
    {
     "name": "stdout",
     "output_type": "stream",
     "text": [
      "p\n",
      "y\n",
      "t\n",
      "h\n",
      "o\n",
      "n\n",
      " \n",
      "p\n",
      "r\n",
      "o\n",
      "g\n",
      "r\n",
      "a\n",
      "m\n",
      "m\n",
      "i\n",
      "n\n",
      "g\n"
     ]
    }
   ],
   "source": [
    "# performing certain activity for every element present in the sequence(list,set,tuple,dict,string,range)\n",
    "\n",
    "# for i in sequence:\n",
    "#     activity\n",
    "\n",
    "s='python programming'\n",
    "for i in s:\n",
    "    print(i)\n"
   ]
  },
  {
   "cell_type": "code",
   "execution_count": 26,
   "metadata": {},
   "outputs": [
    {
     "name": "stdout",
     "output_type": "stream",
     "text": [
      "The character present at 0 index: P\n",
      "The character present at 1 index: y\n",
      "The character present at 2 index: t\n",
      "The character present at 3 index: h\n",
      "The character present at 4 index: o\n",
      "The character present at 5 index: n\n",
      "The character present at 6 index:  \n",
      "The character present at 7 index: P\n",
      "The character present at 8 index: r\n",
      "The character present at 9 index: o\n",
      "The character present at 10 index: g\n",
      "The character present at 11 index: r\n",
      "The character present at 12 index: a\n",
      "The character present at 13 index: m\n",
      "The character present at 14 index: m\n",
      "The character present at 15 index: e\n"
     ]
    }
   ],
   "source": [
    "# print with replacement operator\n",
    "p='Python Programme'\n",
    "i=0\n",
    "for x in p:\n",
    "    print('The character present at {} index: {}'.format(i,x))\n",
    "    i+=1"
   ]
  },
  {
   "cell_type": "code",
   "execution_count": 33,
   "metadata": {},
   "outputs": [
    {
     "name": "stdout",
     "output_type": "stream",
     "text": [
      "The character present at 0 index: P\n",
      "The character present at 1 index: y\n",
      "The character present at 2 index: t\n",
      "The character present at 3 index: h\n",
      "The character present at 4 index: o\n",
      "The character present at 5 index: n\n",
      "The character present at 6 index:  \n",
      "The character present at 7 index: P\n",
      "The character present at 8 index: r\n",
      "The character present at 9 index: o\n",
      "The character present at 10 index: g\n",
      "The character present at 11 index: r\n",
      "The character present at 12 index: a\n",
      "The character present at 13 index: m\n",
      "The character present at 14 index: m\n",
      "The character present at 15 index: e\n"
     ]
    }
   ],
   "source": [
    "# print with formatted string\n",
    "p='Python Programme'\n",
    "i=0\n",
    "for x in p:\n",
    "    print('The character present at %d index: %s'%(i,x))\n",
    "    i+=1"
   ]
  },
  {
   "cell_type": "code",
   "execution_count": 35,
   "metadata": {},
   "outputs": [
    {
     "name": "stdout",
     "output_type": "stream",
     "text": [
      "Python Programming Language\n",
      "Python Programming Language\n",
      "Python Programming Language\n",
      "Python Programming Language\n",
      "Python Programming Language\n",
      "Python Programming Language\n",
      "Python Programming Language\n",
      "Python Programming Language\n",
      "Python Programming Language\n",
      "Python Programming Language\n"
     ]
    }
   ],
   "source": [
    "# printitng some statement n number of times\n",
    "\n",
    "for x in range(10):\n",
    "    print('Python Programming Language')"
   ]
  },
  {
   "cell_type": "code",
   "execution_count": 37,
   "metadata": {},
   "outputs": [
    {
     "name": "stdout",
     "output_type": "stream",
     "text": [
      "Python Programming Language\n",
      "Python Programming Language\n",
      "Python Programming Language\n",
      "Python Programming Language\n",
      "Python Programming Language\n"
     ]
    }
   ],
   "source": [
    "for x in range(5,10):\n",
    "    print('Python Programming Language')"
   ]
  },
  {
   "cell_type": "code",
   "execution_count": 39,
   "metadata": {},
   "outputs": [
    {
     "name": "stdout",
     "output_type": "stream",
     "text": [
      "Enter some number: 22\n",
      "1\n",
      "3\n",
      "5\n",
      "7\n",
      "9\n",
      "11\n",
      "13\n",
      "15\n",
      "17\n",
      "19\n",
      "21\n"
     ]
    }
   ],
   "source": [
    "#  To print odd numbers using for loop and \n",
    "n=int(input('Enter some number: '))\n",
    "for x in range(1,n):\n",
    "    if x%2!=0:\n",
    "        print(x)\n",
    "    if x==n:\n",
    "        print(n)\n",
    "        "
   ]
  },
  {
   "cell_type": "code",
   "execution_count": null,
   "metadata": {},
   "outputs": [],
   "source": [
    "%debug"
   ]
  },
  {
   "cell_type": "code",
   "execution_count": null,
   "metadata": {},
   "outputs": [],
   "source": []
  }
 ],
 "metadata": {
  "kernelspec": {
   "display_name": "Python 3",
   "language": "python",
   "name": "python3"
  },
  "language_info": {
   "codemirror_mode": {
    "name": "ipython",
    "version": 3
   },
   "file_extension": ".py",
   "mimetype": "text/x-python",
   "name": "python",
   "nbconvert_exporter": "python",
   "pygments_lexer": "ipython3",
   "version": "3.8.5"
  }
 },
 "nbformat": 4,
 "nbformat_minor": 4
}
