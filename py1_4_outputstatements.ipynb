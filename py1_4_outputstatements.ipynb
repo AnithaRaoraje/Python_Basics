{
 "cells": [
  {
   "cell_type": "markdown",
   "metadata": {},
   "source": [
    "# Output statements - print()"
   ]
  },
  {
   "cell_type": "markdown",
   "metadata": {},
   "source": [
    "# 1. print without any argument "
   ]
  },
  {
   "cell_type": "code",
   "execution_count": 5,
   "metadata": {},
   "outputs": [
    {
     "name": "stdout",
     "output_type": "stream",
     "text": [
      "python\n",
      "programming\n",
      "----------------------------------------------------------------------------------------------------\n",
      "python\n",
      "\n",
      "programming\n"
     ]
    }
   ],
   "source": [
    "# print statement without any argument will go the next line - \\n(empty line)\n",
    "\n",
    "\n",
    "print('python')\n",
    "print('programming')\n",
    "\n",
    "print(100*'-')\n",
    "\n",
    "print('python')\n",
    "print()\n",
    "print('programming')"
   ]
  },
  {
   "cell_type": "markdown",
   "metadata": {},
   "source": [
    "### 2. print(string) - can be used with escape characters and operators"
   ]
  },
  {
   "cell_type": "code",
   "execution_count": 11,
   "metadata": {},
   "outputs": [
    {
     "name": "stdout",
     "output_type": "stream",
     "text": [
      "python\n",
      "----------------------------------------------------------------------------------------------------\n",
      "python\n",
      "programming\n",
      "----------------------------------------------------------------------------------------------------\n",
      "python\tprogramming\n",
      "----------------------------------------------------------------------------------------------------\n",
      "pythonprogramming\n",
      "----------------------------------------------------------------------------------------------------\n",
      "python python python python python python python python python python \n"
     ]
    }
   ],
   "source": [
    "print('python')\n",
    "\n",
    "print(100*'-')\n",
    "\n",
    "print('python\\nprogramming')\n",
    "\n",
    "print(100*'-')\n",
    "\n",
    "print('python\\tprogramming')\n",
    "\n",
    "print(100*'-')\n",
    "\n",
    "print('python'+'programming') # (str+str) only\n",
    "\n",
    "print(100*'-')\n",
    "\n",
    "print(10*'python ') # (int*str) only"
   ]
  },
  {
   "cell_type": "markdown",
   "metadata": {},
   "source": [
    "# 3. print(variable number of arguments)"
   ]
  },
  {
   "cell_type": "code",
   "execution_count": 12,
   "metadata": {},
   "outputs": [
    {
     "name": "stdout",
     "output_type": "stream",
     "text": [
      "values are: 10 20 30\n"
     ]
    }
   ],
   "source": [
    "a,b,c = 10,20,30\n",
    "print('values are:',a,b,c)"
   ]
  },
  {
   "cell_type": "markdown",
   "metadata": {},
   "source": [
    "### 4. print(with sep attribute) - for single print statement and multiple arguments"
   ]
  },
  {
   "cell_type": "code",
   "execution_count": 29,
   "metadata": {},
   "outputs": [
    {
     "name": "stdout",
     "output_type": "stream",
     "text": [
      "10 20 30 40\n",
      "10,20,30,40\n",
      "10:20:30:40\n",
      "10-20-30-40\n"
     ]
    }
   ],
   "source": [
    "# sep attribute can be used to used seperators in between values\n",
    "\n",
    "a,b,c,d=10,20,30,40\n",
    "print(a,b,c,d)\n",
    "print(a,b,c,d,sep=',')\n",
    "print(a,b,c,d,sep=':')\n",
    "print(a,b,c,d,sep='-')"
   ]
  },
  {
   "cell_type": "markdown",
   "metadata": {},
   "source": [
    "### 5. print(with end attribute) - for multiple print statements"
   ]
  },
  {
   "cell_type": "code",
   "execution_count": 28,
   "metadata": {},
   "outputs": [
    {
     "name": "stdout",
     "output_type": "stream",
     "text": [
      "python\n",
      "programming\n",
      "language\n",
      "----------------------------------------------------------------------------------------------------\n",
      "python programming language\n",
      "----------------------------------------------------------------------------------------------------\n",
      "python :programming :language\n",
      "----------------------------------------------------------------------------------------------------\n",
      "python**programming**language\n",
      "----------------------------------------------------------------------------------------------------\n",
      "python::programming*##*language\n"
     ]
    }
   ],
   "source": [
    "# print without end attribute will go to the new line\n",
    "\n",
    "print('python')\n",
    "print('programming')\n",
    "print('language')\n",
    "\n",
    "print(100*'-')\n",
    "\n",
    "print('python ',end='')\n",
    "print('programming ',end='')\n",
    "print('language')\n",
    "\n",
    "print(100*'-')\n",
    "\n",
    "print('python ',end=':')\n",
    "print('programming ',end=':')\n",
    "print('language')\n",
    "\n",
    "print(100*'-')\n",
    "\n",
    "print('python',end='**')\n",
    "print('programming',end='**')\n",
    "print('language')\n",
    "\n",
    "print(100*'-')\n",
    "\n",
    "# different signs can also be used\n",
    "\n",
    "print('python',end='::')\n",
    "print('programming',end='*##*')\n",
    "print('language')"
   ]
  },
  {
   "cell_type": "code",
   "execution_count": 32,
   "metadata": {},
   "outputs": [
    {
     "name": "stdout",
     "output_type": "stream",
     "text": [
      "10,20,30**40::50::60\n",
      "70 80 90--100~110\n"
     ]
    }
   ],
   "source": [
    "# print with sep and end attributes\n",
    "\n",
    "print(10,20,30,sep=',',end='**')\n",
    "print(40,50,60,sep='::')\n",
    "print(70,80,90,end='--')\n",
    "print(100,110,sep='~')"
   ]
  },
  {
   "cell_type": "markdown",
   "metadata": {},
   "source": [
    "# 6. print(object)"
   ]
  },
  {
   "cell_type": "code",
   "execution_count": 35,
   "metadata": {},
   "outputs": [
    {
     "name": "stdout",
     "output_type": "stream",
     "text": [
      "[10, 20, 30] <class 'list'>\n",
      "(10, 20, 30) <class 'tuple'>\n",
      "{10, 20, 30} <class 'set'>\n"
     ]
    }
   ],
   "source": [
    "l=[10,20,30]\n",
    "print(l,type(l))\n",
    "\n",
    "t=(10,20,30)\n",
    "print(t,type(t))\n",
    "\n",
    "s={10,20,30}\n",
    "print(s,type(s))"
   ]
  },
  {
   "cell_type": "markdown",
   "metadata": {},
   "source": [
    "# 7. print() with replacement operator - {}\n"
   ]
  },
  {
   "cell_type": "code",
   "execution_count": null,
   "metadata": {},
   "outputs": [],
   "source": [
    "name='python'\n",
    "version=3.8\n",
    "use='programming'\n",
    "\n",
    "print('This is {}, version {} used for {}'.format(name,version,use))\n",
    "\n",
    "print(100*'-')\n",
    "\n",
    "print('This is {0}, version {1} used for {2}'.format(name,version,use))\n",
    "\n",
    "print(100*'-')\n",
    "\n",
    "# change on index will give a different result\n",
    "print('This is {1}, version {2} used for {0}'.format(name,version,use))\n",
    "\n",
    "print(100*'-')\n",
    "\n",
    "# keywords can be used for variable as well\n",
    "# keywords in format statement can be used in any order we still get the same result\n",
    "\n",
    "print('This is {n}, version {v} used for {u}'.format(n=name,v=version,u=use))\n",
    "\n",
    "print(100*'-')\n",
    "\n",
    "print('This is {n}, version {v} used for {u}'.format(u=use,n=name,v=version))"
   ]
  },
  {
   "cell_type": "code",
   "execution_count": 55,
   "metadata": {},
   "outputs": [
    {
     "name": "stdout",
     "output_type": "stream",
     "text": [
      "a=10,b=20,c=30,d=40\n",
      "a=10,b=20,c=30,d=40\n",
      "a=10,b=20,c=30,d=40\n"
     ]
    }
   ],
   "source": [
    "# replacement operator\n",
    "a,b,c,d=10,20,30,40 # wanted result(a=10,b=20,c=30,d=40)\n",
    "\n",
    "print('a={},b={},c={},d={}'.format(a,b,c,d))\n",
    "\n",
    "# with index positions\n",
    "\n",
    "print('a={0},b={1},c={2},d={3}'.format(a,b,c,d))\n",
    "\n",
    "# with keywords\n",
    "\n",
    "print('a={w},b={x},c={y},d={z}'.format(w=a,x=b,y=c,z=d))"
   ]
  },
  {
   "cell_type": "markdown",
   "metadata": {},
   "source": [
    "# 8. print() with formatted string"
   ]
  },
  {
   "cell_type": "code",
   "execution_count": 71,
   "metadata": {},
   "outputs": [
    {
     "name": "stdout",
     "output_type": "stream",
     "text": [
      "a value: 10\n",
      "a=10, b=20, c=30\n",
      "This is python version 3.800000 used for programming\n",
      "This is python version 3.8 used for programming\n"
     ]
    }
   ],
   "source": [
    "# %i - signed decimal value\n",
    "# %d - signed decimal value\n",
    "# %f - signed float value\n",
    "# %s - string value or any other object(list,set,tuple)\n",
    "\n",
    "\n",
    "# print(formatted string %(varibale list))\n",
    "\n",
    "a=10\n",
    "print('a value: %i' %a)\n",
    "\n",
    "\n",
    "a,b,c=10,20,30\n",
    "print('a=%d, b=%d, c=%d' %(a,b,c))\n",
    "\n",
    "name='python'\n",
    "version=3.8\n",
    "use='programming'\n",
    "print('This is %s version %f used for %s' %(name,version,use))\n",
    "\n",
    "\n",
    "# for only 1 digit after decimal in version - %.no of digits f (%.1f)\n",
    "\n",
    "name='python'\n",
    "version=3.8\n",
    "use='programming'\n",
    "print('This is %s version %.1f used for %s' %(name,version,use))"
   ]
  },
  {
   "cell_type": "code",
   "execution_count": null,
   "metadata": {},
   "outputs": [],
   "source": []
  }
 ],
 "metadata": {
  "kernelspec": {
   "display_name": "Python 3",
   "language": "python",
   "name": "python3"
  },
  "language_info": {
   "codemirror_mode": {
    "name": "ipython",
    "version": 3
   },
   "file_extension": ".py",
   "mimetype": "text/x-python",
   "name": "python",
   "nbconvert_exporter": "python",
   "pygments_lexer": "ipython3",
   "version": "3.8.5"
  }
 },
 "nbformat": 4,
 "nbformat_minor": 4
}
