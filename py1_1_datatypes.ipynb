{
 "cells": [
  {
   "cell_type": "code",
   "execution_count": 54,
   "metadata": {},
   "outputs": [],
   "source": [
    "# Python is a general purpose high level programming language (programmer friendly) used to develop applications such as\n",
    "    # desktop applications ( calculator ), web applications, network applications, data science, machine learning(ML), \n",
    "    # neural netwroks( NN ), data analysis applications, deep learning applications ( DL ), artificial intelligence ( AI ).\n",
    "# The user is not required to worry about low level activities such as memory management, storage, security, object destruction."
   ]
  },
  {
   "cell_type": "code",
   "execution_count": 55,
   "metadata": {},
   "outputs": [],
   "source": [
    "# Father of python - Guido Van Rossum.\n",
    "# python is officially released in Feb 20th 1991.\n",
    "# python is named after a comedy series named Monty Python's Flying Circus."
   ]
  },
  {
   "cell_type": "code",
   "execution_count": 56,
   "metadata": {},
   "outputs": [],
   "source": [
    "# Python as an all rounder has all the features available in all languages\n",
    "    # procedure programming features - c language\n",
    "    # object oriented proramming features - c++ and java\n",
    "    # scripting language features - perl & shellscript\n",
    "    # modular programming features - modula-3"
   ]
  },
  {
   "cell_type": "code",
   "execution_count": 57,
   "metadata": {},
   "outputs": [],
   "source": [
    "# Features of python :\n",
    "# ---------------------------------------------------------------------------------------------------------------------------\n",
    "    # freeware and open source - free source so customization is possible.\n",
    "    # simple and easy to use - 33 keywords.\n",
    "    # high level programming language - programmer friendly language.\n",
    "    # platform independent - works on windows, linux, mac but ** python virtual machine is platform dependent **.\n",
    "    # portability - without changes or with changes can migrate from one platfrorm to another.\n",
    "    # dynamically typed - we need not define type explicitily.\n",
    "    # both procedure & object oriented programming language.\n",
    "    # interpreted - we are not required to compile. Interpreter will compile.\n",
    "    # entensible - we can use legacy non-python code ( for performance we can write c code and use python for overall \n",
    "        # improved performance )\n",
    "    # embedded - we can use python code in any language apps ( jython for java, ironthon for c#.net )-so scope of python is \n",
    "        # improved\n",
    "    # extensive library - python has an extensive library support ( numpy - mathematical support, pandas - import and\n",
    "        # read data set,\n",
    "    # matplotlib - to projecct data graphs )."
   ]
  },
  {
   "cell_type": "code",
   "execution_count": 58,
   "metadata": {},
   "outputs": [],
   "source": [
    "# Limitations of python :\n",
    "\n",
    "# ---------------------------------------------------------------------------------------------------------------------------\n",
    "\n",
    "    # Mobile applications - python does not have library support to develop mobile applications.\n",
    "    # enterprise applications ( end to end enterprise applications ) such as banking, telecom - no library support.\n",
    "    # performance is low  - python is an interpreted programming language so performance is low\n",
    "    # so JIT compiler is added to PVM called pypy ( python for speed ) but it is not upto the mark."
   ]
  },
  {
   "cell_type": "code",
   "execution_count": 59,
   "metadata": {},
   "outputs": [],
   "source": [
    "# Flavours of python :\n",
    "\n",
    "# ---------------------------------------------------------------------------------------------------------------------------\n",
    "\n",
    "    # as python is freeware and open source ( access to source code ) so based on requirement we can customize python versions\n",
    "        # so multiple flavours are possible\n",
    "    # c python - standard flavour to work with c \n",
    "    # jython or j python - customized version to work with java and can work on JVM( Java Virtual Machine )\n",
    "    # iron python - customized version to work with c#.net\n",
    "    # ruby python - customized version to work with ruby platform\n",
    "    # anaconda python - to work with big data and with machine language, data science , deep learning, neural networks, \n",
    "    # artificial intelligence because these contain extensive library to work with data science applications\n",
    "    # specialized platform for data science platform\n",
    "    # stackless - customized version to work for concurrent applications ( python for concurrency )\n",
    "    # pypy - python for speed"
   ]
  },
  {
   "cell_type": "code",
   "execution_count": 60,
   "metadata": {},
   "outputs": [],
   "source": [
    "# python identifiers - identifier is nothing but name ( variable name, class name, method name )\n",
    "# Rules to define python variables\n",
    "\n",
    "# ---------------------------------------------------------------------------------------------------------------------------\n",
    "\n",
    "    # allowed characters in python are a-z, AtoZ, 0 to 9 and _.\n",
    "    # variable name should not start with digits( 0 to 9 ) - Syntax error\n",
    "    # python and python identifiers are case sensitive\n",
    "    # there is no length limit in python - but lenghty names are not recommended as readability is going to de down and not a \n",
    "    # good programming practice\n",
    "    # we cannot use reserved words as identifiers."
   ]
  },
  {
   "cell_type": "code",
   "execution_count": 61,
   "metadata": {},
   "outputs": [],
   "source": [
    "# variable meanings ( x = variable )\n",
    "    # x = normal variable\n",
    "    # _x = protected variable ( variable name starts with one _ )\n",
    "    # __x = private variable ( variable name starts with two _ )\n",
    "    # __x__ = magic variable ( variable name starts and ends with two _ )"
   ]
  },
  {
   "cell_type": "code",
   "execution_count": 62,
   "metadata": {},
   "outputs": [
    {
     "data": {
      "text/plain": [
       "10"
      ]
     },
     "execution_count": 62,
     "metadata": {},
     "output_type": "execute_result"
    }
   ],
   "source": [
    "# variables are entity of a program that hold a value\n",
    "x=10\n",
    "x"
   ]
  },
  {
   "cell_type": "code",
   "execution_count": 63,
   "metadata": {},
   "outputs": [],
   "source": [
    "# python keywords / reserved words - there are 33 keywords in python\n",
    "\n",
    "# ---------------------------------------------------------------------------------------------------------------------------\n",
    "\n",
    "    # True, False, None\n",
    "    # and, or, not, is\n",
    "    # if, elif( elseif ), else\n",
    "    # while, for, break, continue, return, in, yield\n",
    "    # try, except, finally, raise, assert\n",
    "    # import, from, as, class, def, pass\n",
    "    # global, nonlocal, lambda, del, with.\n",
    "    \n",
    "# ---------------------------------------------------------------------------------------------------------------------------\n",
    "\n",
    "# reserved words contain oly alphabets \n",
    "# except 3 all other contains lower case alphabets only( boolean values - True, False, None  ) - otherwise we get name error\n",
    "# switch ( java, c ), do while loop - concepts are not there in python\n",
    "# no int, float, complex, bool reserved words - as python is dynamically typed"
   ]
  },
  {
   "cell_type": "code",
   "execution_count": 64,
   "metadata": {},
   "outputs": [
    {
     "data": {
      "text/plain": [
       "['False',\n",
       " 'None',\n",
       " 'True',\n",
       " 'and',\n",
       " 'as',\n",
       " 'assert',\n",
       " 'async',\n",
       " 'await',\n",
       " 'break',\n",
       " 'class',\n",
       " 'continue',\n",
       " 'def',\n",
       " 'del',\n",
       " 'elif',\n",
       " 'else',\n",
       " 'except',\n",
       " 'finally',\n",
       " 'for',\n",
       " 'from',\n",
       " 'global',\n",
       " 'if',\n",
       " 'import',\n",
       " 'in',\n",
       " 'is',\n",
       " 'lambda',\n",
       " 'nonlocal',\n",
       " 'not',\n",
       " 'or',\n",
       " 'pass',\n",
       " 'raise',\n",
       " 'return',\n",
       " 'try',\n",
       " 'while',\n",
       " 'with',\n",
       " 'yield']"
      ]
     },
     "execution_count": 64,
     "metadata": {},
     "output_type": "execute_result"
    }
   ],
   "source": [
    "# Import keyword list\n",
    "import keyword\n",
    "keyword.kwlist"
   ]
  },
  {
   "cell_type": "code",
   "execution_count": 65,
   "metadata": {},
   "outputs": [],
   "source": [
    "# Fundamental data types - int, float, complex, bool, str\n",
    "# Long data types available in python 2 but not in python 3 versions\n",
    "# char data type is not available in python - char values can also be represented using str data type\n",
    "# python is dynamically typed - no need to define type explicitily\n",
    "# python interpreter will decide type based on value given"
   ]
  },
  {
   "cell_type": "code",
   "execution_count": 66,
   "metadata": {},
   "outputs": [],
   "source": [
    "# data types - 14\n",
    "# int, float, bool, complex, str\n",
    "# list, tuple, set, frozenset, dict, bytes, bytearray, range, None."
   ]
  },
  {
   "cell_type": "code",
   "execution_count": 67,
   "metadata": {},
   "outputs": [],
   "source": [
    "# everything in python is an object\n",
    "# type - python inbuilt function to know the type of an object\n",
    "# id - to know the address of an object\n",
    "# print - to print the value of an object."
   ]
  },
  {
   "cell_type": "code",
   "execution_count": null,
   "metadata": {},
   "outputs": [],
   "source": [
    "# IDLE and python console - these are REPL tools ( read, evalve, print, loop )\n",
    "# they are not standard tools for python"
   ]
  },
  {
   "cell_type": "code",
   "execution_count": 68,
   "metadata": {},
   "outputs": [],
   "source": [
    "# int data type - numbers without decimal points\n",
    "# we can represent int values in 4 forms\n",
    "    # decimal form ( base - 10 ) - 0 to 9 ( 2639198 )\n",
    "    # binary form ( base - 2 ) - 0 and 1 ( eg. - 0b00110110 or 0B01111 )\n",
    "    # octal form ( base - 8 ) - 0 to 7 ( 0o243163 or 0O35576 )\n",
    "    # hexadecimal form ( base - 16 ) - 0 to 9 and a to f ( 0xface, 47aade )"
   ]
  },
  {
   "cell_type": "code",
   "execution_count": 72,
   "metadata": {},
   "outputs": [
    {
     "name": "stdout",
     "output_type": "stream",
     "text": [
      "True\n",
      "140734209275968\n",
      "140734209275968\n",
      "##################################################\n",
      "False\n",
      "1973360446256\n",
      "1973359934160\n",
      "##################################################\n",
      "False\n",
      "1973360446480\n",
      "1973360444880\n",
      "##################################################\n",
      "True\n",
      "1973325254576\n",
      "1973325254576\n"
     ]
    }
   ],
   "source": [
    "# id's are different for float and complex numbers though the objects are same in jupyter, works fine in pycharm\n",
    "# so a is b will be false for float and complex numbers only.\n",
    "\n",
    "x=10\n",
    "y=10\n",
    "print(x is y)\n",
    "print(id(x))\n",
    "print(id(y))\n",
    "\n",
    "s='#'*50\n",
    "print(s)\n",
    "\n",
    "\n",
    "a=10.5\n",
    "b=10.5\n",
    "print(a is b)\n",
    "print(id(a))\n",
    "print(id(b))\n",
    "\n",
    "s='#'*50\n",
    "print(s)\n",
    "\n",
    "\n",
    "i=10+36j\n",
    "v=10+36j\n",
    "print(i is v)\n",
    "print(id(i))\n",
    "print(id(v))\n",
    "\n",
    "\n",
    "s='#'*50\n",
    "print(s)\n",
    "\n",
    "\n",
    "s1='10'\n",
    "s2='10'\n",
    "print(s1 is s2)\n",
    "print(id(s1))\n",
    "print(id(s2))"
   ]
  },
  {
   "cell_type": "code",
   "execution_count": 69,
   "metadata": {},
   "outputs": [
    {
     "name": "stdout",
     "output_type": "stream",
     "text": [
      "<class 'int'>\n"
     ]
    }
   ],
   "source": [
    "#Fundamental data type - int, float, bool, complex, str\n",
    "# int data type\n",
    "x = 10\n",
    "print(type(x))"
   ]
  },
  {
   "cell_type": "code",
   "execution_count": 70,
   "metadata": {},
   "outputs": [
    {
     "data": {
      "text/plain": [
       "float"
      ]
     },
     "execution_count": 70,
     "metadata": {},
     "output_type": "execute_result"
    }
   ],
   "source": [
    "# float data type\n",
    "f=274.75\n",
    "type(f)"
   ]
  },
  {
   "cell_type": "code",
   "execution_count": 107,
   "metadata": {},
   "outputs": [
    {
     "name": "stdout",
     "output_type": "stream",
     "text": [
      "<class 'bool'>\n"
     ]
    }
   ],
   "source": [
    "# bool data type\n",
    "b = True\n",
    "print(type(b))"
   ]
  },
  {
   "cell_type": "code",
   "execution_count": 108,
   "metadata": {},
   "outputs": [
    {
     "name": "stdout",
     "output_type": "stream",
     "text": [
      "<class 'complex'>\n"
     ]
    }
   ],
   "source": [
    "# complex data type\n",
    "c = 10+56j\n",
    "print(type(c))"
   ]
  },
  {
   "cell_type": "code",
   "execution_count": 71,
   "metadata": {},
   "outputs": [
    {
     "name": "stdout",
     "output_type": "stream",
     "text": [
      "<class 'str'>\n"
     ]
    }
   ],
   "source": [
    "# string data type\n",
    "s='python'\n",
    "print(type(s))"
   ]
  },
  {
   "cell_type": "code",
   "execution_count": 109,
   "metadata": {},
   "outputs": [
    {
     "name": "stdout",
     "output_type": "stream",
     "text": [
      "<class 'int'>\n",
      "<class 'float'>\n",
      "<class 'bool'>\n",
      "<class 'complex'>\n",
      "<class 'str'>\n"
     ]
    }
   ],
   "source": [
    "# No need to define type explicitily in python\n",
    "a = 10\n",
    "print(type(a))\n",
    "\n",
    "a = 10.5\n",
    "print(type(a))\n",
    "\n",
    "a = True\n",
    "print(type(a))\n",
    "\n",
    "a = 10+29j\n",
    "print(type(a))\n",
    "\n",
    "a = 'python'\n",
    "print(type(a))"
   ]
  },
  {
   "cell_type": "code",
   "execution_count": 74,
   "metadata": {},
   "outputs": [
    {
     "name": "stdout",
     "output_type": "stream",
     "text": [
      "<class 'int'>\n"
     ]
    }
   ],
   "source": [
    "# types of int data types - decimal, binary, octal, hex\n",
    "# decimal int data type - ( base 10 )\n",
    "a = 465\n",
    "print(type(a))"
   ]
  },
  {
   "cell_type": "code",
   "execution_count": 113,
   "metadata": {},
   "outputs": [
    {
     "name": "stdout",
     "output_type": "stream",
     "text": [
      "21\n",
      "<class 'int'>\n",
      "7\n"
     ]
    }
   ],
   "source": [
    "# binary value - ( base 2 ) python interprets in decimal format only - values - 0 and 1\n",
    "# to represent binary values (use 0b or 0B)\n",
    "\n",
    "a = 0b10101\n",
    "print(a)\n",
    "print(type(a))\n",
    "\n",
    "x = 0B0111\n",
    "print(x)"
   ]
  },
  {
   "cell_type": "code",
   "execution_count": 114,
   "metadata": {},
   "outputs": [
    {
     "name": "stdout",
     "output_type": "stream",
     "text": [
      "0b10101\n"
     ]
    }
   ],
   "source": [
    "# to convert decimal to binary format use bin function\n",
    "a = 21\n",
    "print(bin(a))"
   ]
  },
  {
   "cell_type": "code",
   "execution_count": 126,
   "metadata": {
    "scrolled": true
   },
   "outputs": [
    {
     "name": "stdout",
     "output_type": "stream",
     "text": [
      "743\n",
      "<class 'int'>\n",
      "483\n",
      "<class 'int'>\n",
      "348\n"
     ]
    }
   ],
   "source": [
    "# octal value - (base 8) values from 0 to 7\n",
    "a = 743\n",
    "print(a)\n",
    "print(type(a))\n",
    "\n",
    "# to represent oct values (use 0o or 0O)\n",
    "b = 0o743\n",
    "print(b)\n",
    "print(type(b))\n",
    "\n",
    "c = 0O534\n",
    "print(c)\n"
   ]
  },
  {
   "cell_type": "code",
   "execution_count": 124,
   "metadata": {},
   "outputs": [
    {
     "name": "stdout",
     "output_type": "stream",
     "text": [
      "0o1347\n",
      "<class 'str'>\n",
      "octal form of a : 0o1347\n"
     ]
    }
   ],
   "source": [
    "# to convert decimal values to oct form use - oct function\n",
    "\n",
    "x = (oct(743))\n",
    "print(x)\n",
    "print(\"octal form of a : \" + oct(a))"
   ]
  },
  {
   "cell_type": "code",
   "execution_count": 127,
   "metadata": {},
   "outputs": [
    {
     "name": "stdout",
     "output_type": "stream",
     "text": [
      "64206\n"
     ]
    }
   ],
   "source": [
    "# hexa type - 0 to 9 and a to f (represents a-10, b-11, c-12, d-13, e-14, f-15)\n",
    "a = 0xface\n",
    "print(a)\n"
   ]
  },
  {
   "cell_type": "code",
   "execution_count": 131,
   "metadata": {},
   "outputs": [
    {
     "name": "stdout",
     "output_type": "stream",
     "text": [
      "0xface\n"
     ]
    }
   ],
   "source": [
    "# to convert decimal form to hexa value\n",
    "a = 64206\n",
    "print(hex(a))\n"
   ]
  },
  {
   "cell_type": "code",
   "execution_count": 133,
   "metadata": {},
   "outputs": [
    {
     "name": "stdout",
     "output_type": "stream",
     "text": [
      "<class 'float'>\n",
      "1238.0\n",
      "123800000.0\n",
      "0.01238\n",
      "-1.238\n"
     ]
    }
   ],
   "source": [
    "# float data type - decimal point values\n",
    "\n",
    "a = 1.2345\n",
    "print(type(a))\n",
    "\n",
    "# float data types doesn't have binary, oct or hex forms\n",
    "# float values can be used in exponential forms as well\n",
    "# advantage - within less space we can represent bigger values\n",
    "\n",
    "a = 1.238e3\n",
    "print(a)\n",
    "\n",
    "# or plus(+) sign can be used as well\n",
    "a = 1.238e+8\n",
    "print(a)\n",
    "\n",
    "# exponential values can be used to denote negative values as well\n",
    "a = 1238e-5\n",
    "print(a)\n",
    "\n",
    "a = -1238e-3\n",
    "print(a)"
   ]
  },
  {
   "cell_type": "code",
   "execution_count": null,
   "metadata": {},
   "outputs": [],
   "source": [
    "# complex data types - python specific data type\n",
    "# used for scientific applications ,mathematical applications or electrical engineering applications\n",
    "# syntax of complex data type = (a+bj or a+bJ (a=realpart) (b=imaginary part) (jsquare = -1 or j=root of -1))\n",
    "\n",
    "x = 10 + 20j\n",
    "print(type(x))\n",
    "print(x)\n",
    "\n",
    "# to know the real part\n",
    "print(x.real)\n",
    "# int ( dec, bin , oct , hex ) and float data types can be used in real part of complex number/ data type.\n",
    "\n",
    "# to know imaginary part\n",
    "print(x.imag)\n",
    "# both int(only decimal) and float values can be used in imaginary part\n",
    "\n",
    "\n",
    "x = -4.6 - 1.1j\n",
    "print(type(x))\n",
    "print(x)\n",
    "# to know the real part\n",
    "print(x.real)\n",
    "# to know imaginary part\n",
    "print(x.imag)\n",
    "\n",
    "\n",
    "# both int float values can be used as real and imaginary part\n",
    "x = -4.6e5 - 1.1e-6j\n",
    "print(type(x))\n",
    "print(x)\n",
    "# to know the real part\n",
    "print(x.real)\n",
    "# to know imaginary part\n",
    "print(x.imag)\n",
    "\n",
    "\n",
    "x = -0b1111 + 12j\n",
    "print(type(x))\n",
    "print(x)\n",
    "# to know the real part\n",
    "print(x.real)\n",
    "# to know imaginary part\n",
    "print(x.imag)\n",
    "\n",
    "\n",
    "x = 15 - 134j\n",
    "print(x.real)\n",
    "print(bin(int(x.real)))\n",
    "print(x.imag)\n",
    "print(type(x.real))"
   ]
  },
  {
   "cell_type": "code",
   "execution_count": 134,
   "metadata": {},
   "outputs": [
    {
     "name": "stdout",
     "output_type": "stream",
     "text": [
      "64206.0\n",
      "<class 'float'>\n",
      "0xface\n",
      "\n",
      "------------------------------------\n",
      "\n"
     ]
    }
   ],
   "source": [
    "# Hexadecimal complex \n",
    "\n",
    "x = 0xface - 134j\n",
    "print(x.real)\n",
    "print(type(x.real))\n",
    "print(hex(int(x.real)))\n"
   ]
  },
  {
   "cell_type": "code",
   "execution_count": 80,
   "metadata": {},
   "outputs": [
    {
     "name": "stdout",
     "output_type": "stream",
     "text": [
      "True\n",
      "<class 'bool'>\n",
      "False\n",
      "True\n",
      "<class 'bool'>\n"
     ]
    }
   ],
   "source": [
    "# bool data type - to represent logical values True and False\n",
    "a = True\n",
    "print(a)\n",
    "print(type(a))\n",
    "\n",
    "a = 10\n",
    "b = 20\n",
    "c = a > b\n",
    "print(c)\n",
    "\n",
    "a = 10\n",
    "b = 20\n",
    "c = a < b\n",
    "print(c)\n",
    "print(type(c))"
   ]
  },
  {
   "cell_type": "code",
   "execution_count": 81,
   "metadata": {},
   "outputs": [
    {
     "name": "stdout",
     "output_type": "stream",
     "text": [
      "2\n",
      "1\n",
      "1\n",
      "0\n",
      "-1\n",
      "<class 'int'>\n"
     ]
    }
   ],
   "source": [
    "# Arithmatic operations can also be performed on bool values - True = 1, False = 0\n",
    "\n",
    "a = True + True\n",
    "print(a)\n",
    "\n",
    "a = True + False\n",
    "print(a)\n",
    "\n",
    "a = True - False\n",
    "print(a)\n",
    "\n",
    "a = True * False\n",
    "print(a)\n",
    "\n",
    "a = False - True\n",
    "print(a)\n",
    "print(type(a))"
   ]
  },
  {
   "cell_type": "code",
   "execution_count": null,
   "metadata": {},
   "outputs": [],
   "source": [
    "# string data type - using single, double and triple quotes\n",
    "\n",
    "a = 'str data type'\n",
    "print(a)\n",
    "print(type(a))\n",
    "\n",
    "a = \"str data type\"\n",
    "print(a)\n",
    "print(type(a))"
   ]
  },
  {
   "cell_type": "code",
   "execution_count": 136,
   "metadata": {},
   "outputs": [
    {
     "name": "stdout",
     "output_type": "stream",
     "text": [
      "triple double quotes str data type\n",
      "<class 'str'>\n",
      "triple single quotes str data type\n",
      "<class 'str'>\n",
      "triple double quotes \n",
      "            str data type\n",
      "<class 'str'>\n",
      "triple double 'quotes' str data type\n",
      "triple double \"quotes\" str data type\n",
      "'triple double quotes' 'str data type'\n",
      "'triple double quote's' 'str data type'\n"
     ]
    }
   ],
   "source": [
    "# Triple Quotes - ''' or \"\"\"\n",
    "\n",
    "a = \"\"\"triple double quotes str data type\"\"\"\n",
    "print(a)\n",
    "print(type(a))\n",
    "\n",
    "a = '''triple single quotes str data type'''\n",
    "print(a)\n",
    "print(type(a))\n",
    "\n",
    "# a. can be used for multi-line string lateral\n",
    "\n",
    "a = \"\"\"triple double quotes \n",
    "            str data type\"\"\"\n",
    "print(a)\n",
    "print(type(a))\n",
    "\n",
    "# b. can be used to use quotes as characters\n",
    "\n",
    "# to use single quotes as characters we can use double quotes\n",
    "x = \"triple double 'quotes' str data type\"\n",
    "print(x)\n",
    "\n",
    "# to use double quotes as characters we can use single quotes\n",
    "x = 'triple double \"quotes\" str data type'\n",
    "print(x)\n",
    "\n",
    "# to use both double and single quotes or to use more than 1 double or single quotes we can use triple quotes\n",
    "a = \"\"\"'triple double quotes' 'str data type'\"\"\"\n",
    "print(a)\n",
    "\n",
    "\n",
    "# b. can be used to use quotes as characters\n",
    "a = \"\"\"'triple double quote's' 'str data type'\"\"\"\n",
    "print(a)\n",
    "\n",
    "\n",
    "# c. to define doc string"
   ]
  },
  {
   "cell_type": "code",
   "execution_count": 137,
   "metadata": {},
   "outputs": [
    {
     "name": "stdout",
     "output_type": "stream",
     "text": [
      "u\n",
      "x\n",
      "c\n"
     ]
    }
   ],
   "source": [
    "# index - to extract a character from a string(both positive index and negative index)\n",
    "\n",
    "a = 'Index Function'\n",
    "print(a[7])\n",
    "print(a[4])\n",
    "\n",
    "# negative index - - values can also be used  and values will be counted from right to left\n",
    "\n",
    "a = 'Index function'\n",
    "print(a[-5])"
   ]
  },
  {
   "cell_type": "code",
   "execution_count": 6,
   "metadata": {},
   "outputs": [
    {
     "name": "stdout",
     "output_type": "stream",
     "text": [
      "operator is a python\n",
      "python specific operator\n",
      "slice operator is a python\n",
      "ani\n",
      "6\n",
      "Anitha\n",
      "anithA\n",
      "AnithA\n",
      "\n",
      "------------------------------------\n",
      "\n",
      "sieoeao sapto pcfcoeao\n"
     ]
    }
   ],
   "source": [
    "# Slice operator - python specific operator - to extract a piece of a string\n",
    "# syntax - variable name[begin:end] - returns characters from begin index to end-1 index\n",
    "\n",
    "a = 'slice operator is a python specific operator'\n",
    "print(a[6:26])\n",
    "print(a[20:])\n",
    "print(a[:26])\n",
    "\n",
    "# applications of slice operator\n",
    "# 1.\n",
    "\n",
    "a = 'anitha'\n",
    "print(a[0:3])\n",
    "\n",
    "# convert first character to upper case keeping all the characcters the same\n",
    "\n",
    "a = 'anitha'\n",
    "print(len(a))\n",
    "new = (a[0].upper() + a[1:])\n",
    "print(new)\n",
    "\n",
    "# convert last character to upper case\n",
    "a = 'anitha'\n",
    "new1 = (a[0:len(a) - 1] + a[-1].upper())\n",
    "print(new1)\n",
    "\n",
    "# convert first and last character to upper case\n",
    "\n",
    "a = 'anitha'\n",
    "new2 = (a[0].upper() + a[1:len(a) - 1] + a[-1].upper())\n",
    "print(new2)\n",
    "\n",
    "print(\"\\n------------------------------------\\n\")\n",
    "\n",
    "a = 'slice operator is a python specific operator'\n",
    "# to print alternate characters\n",
    "\n",
    "alta=(a[::2])\n",
    "print(alta)"
   ]
  },
  {
   "cell_type": "code",
   "execution_count": 139,
   "metadata": {},
   "outputs": [
    {
     "name": "stdout",
     "output_type": "stream",
     "text": [
      "python programming\n",
      "python_python_python_\n",
      "python_python_python_\n"
     ]
    }
   ],
   "source": [
    "# + operator = both arguments must be string\n",
    "\n",
    "a = 'python' + ' programming'\n",
    "print(a)\n",
    "\n",
    "# * operator = string repetition operator - one of the argument has to be string and the other int\n",
    "\n",
    "a = 'python_' * 3\n",
    "print(a)\n",
    "\n",
    "# or\n",
    "\n",
    "a = 3 * 'python_'\n",
    "print(a)\n",
    "\n",
    "# a = 'python'*'software'\n",
    "# print(a)\n",
    "# TypeError: can't multiply sequence by non-int of type 'str'"
   ]
  },
  {
   "cell_type": "code",
   "execution_count": 86,
   "metadata": {},
   "outputs": [
    {
     "name": "stdout",
     "output_type": "stream",
     "text": [
      "10\n"
     ]
    }
   ],
   "source": [
    "# Typecasting - converting from one form of data type to another form of data type\n",
    "# 1.int\n",
    "# float to int\n",
    "a = 10.5683\n",
    "print(int(a))"
   ]
  },
  {
   "cell_type": "code",
   "execution_count": 87,
   "metadata": {},
   "outputs": [],
   "source": [
    "# # complex to int - TypeError: can't convert complex to int\n",
    "# a = 10+20j\n",
    "# print(int(a))"
   ]
  },
  {
   "cell_type": "code",
   "execution_count": 88,
   "metadata": {},
   "outputs": [
    {
     "name": "stdout",
     "output_type": "stream",
     "text": [
      "1\n",
      "0\n"
     ]
    }
   ],
   "source": [
    "# bool to int - True = 1 and False = 0\n",
    "a = True\n",
    "print(int(a))\n",
    "\n",
    "a = False\n",
    "print(int(a))"
   ]
  },
  {
   "cell_type": "code",
   "execution_count": 89,
   "metadata": {},
   "outputs": [
    {
     "name": "stdout",
     "output_type": "stream",
     "text": [
      "5748\n"
     ]
    }
   ],
   "source": [
    "# str to int type - str should contain only int value and base of 10\n",
    "\n",
    "a = '5748'\n",
    "print(int(a))\n",
    "\n",
    "# cant convert float string values to int type - ValueError: invalid literal for int() with base 10\n",
    "# a = '10.09364'\n",
    "# print(int(a))"
   ]
  },
  {
   "cell_type": "code",
   "execution_count": 90,
   "metadata": {},
   "outputs": [
    {
     "name": "stdout",
     "output_type": "stream",
     "text": [
      "18.0\n"
     ]
    }
   ],
   "source": [
    "# other types to float type\n",
    "\n",
    "#  int to float\n",
    "a = 18\n",
    "print(float(a))"
   ]
  },
  {
   "cell_type": "code",
   "execution_count": 91,
   "metadata": {},
   "outputs": [],
   "source": [
    "# complex to float - TypeError: can't convert complex to float\n",
    "# a = 10.5+45.98j\n",
    "# print(float(a))"
   ]
  },
  {
   "cell_type": "code",
   "execution_count": 92,
   "metadata": {},
   "outputs": [
    {
     "name": "stdout",
     "output_type": "stream",
     "text": [
      "1.0\n",
      "0.0\n"
     ]
    }
   ],
   "source": [
    "# bool to float - True = 1.0 anf False = 0.0\n",
    "a = True\n",
    "print(float(a))\n",
    "\n",
    "a = False\n",
    "print(float(a))"
   ]
  },
  {
   "cell_type": "code",
   "execution_count": 93,
   "metadata": {},
   "outputs": [
    {
     "name": "stdout",
     "output_type": "stream",
     "text": [
      "367.0\n"
     ]
    }
   ],
   "source": [
    "# str to float - internally str should contain int value and should be base of 10\n",
    "\n",
    "a = '367'\n",
    "print(float(a))"
   ]
  },
  {
   "cell_type": "code",
   "execution_count": 94,
   "metadata": {},
   "outputs": [
    {
     "name": "stdout",
     "output_type": "stream",
     "text": [
      "(648+0j)\n",
      "(15+0j)\n",
      "(658+738j)\n"
     ]
    }
   ],
   "source": [
    "# other data types to complex data types\n",
    "# int to complex type - 1 arg becomes real part\n",
    "\n",
    "a = 648\n",
    "print(complex(a))\n",
    "# binary form\n",
    "a = 0b1111\n",
    "print(complex(a))\n",
    "\n",
    "a = 658\n",
    "b = 738\n",
    "print(complex(a, b))"
   ]
  },
  {
   "cell_type": "code",
   "execution_count": 95,
   "metadata": {},
   "outputs": [
    {
     "name": "stdout",
     "output_type": "stream",
     "text": [
      "(38.6+0j)\n",
      "(72.5+28.4j)\n"
     ]
    }
   ],
   "source": [
    "# float to complex\n",
    "\n",
    "a = 38.6\n",
    "print(complex(a))\n",
    "\n",
    "a = 72.5\n",
    "b = 28.4\n",
    "print(complex(a, b))"
   ]
  },
  {
   "cell_type": "code",
   "execution_count": 96,
   "metadata": {},
   "outputs": [
    {
     "name": "stdout",
     "output_type": "stream",
     "text": [
      "(1+0j)\n",
      "0j\n",
      "(1+1j)\n"
     ]
    }
   ],
   "source": [
    "# bool to complex - True = 1 and False = 0\n",
    "\n",
    "a = True\n",
    "print(complex(a))\n",
    "\n",
    "a = False\n",
    "print(complex(a))\n",
    "\n",
    "a = True\n",
    "b = True\n",
    "print(complex(a, b))"
   ]
  },
  {
   "cell_type": "code",
   "execution_count": 97,
   "metadata": {},
   "outputs": [
    {
     "name": "stdout",
     "output_type": "stream",
     "text": [
      "(464+0j)\n",
      "(45.7+0j)\n"
     ]
    }
   ],
   "source": [
    "# str to complex\n",
    "print(complex('464'))\n",
    "print(complex('45.7'))\n",
    "\n",
    "# complex('10','20') - TypeError: complex() can't take second arg if first is a string\n",
    "# complex(10,'35') - TypeError: complex() second arg can't be a string"
   ]
  },
  {
   "cell_type": "code",
   "execution_count": 98,
   "metadata": {},
   "outputs": [
    {
     "name": "stdout",
     "output_type": "stream",
     "text": [
      "True\n",
      "True\n",
      "False\n",
      "True\n"
     ]
    }
   ],
   "source": [
    "# other form to bool tye - any other value other than 0 is true\n",
    "# int to bool form\n",
    "a = 10\n",
    "print(bool(a))\n",
    "\n",
    "a = 0b1111\n",
    "print(bool(a))\n",
    "\n",
    "a = 0\n",
    "print(bool(a))\n",
    "\n",
    "a = -0.00001\n",
    "print(bool(a))"
   ]
  },
  {
   "cell_type": "code",
   "execution_count": 99,
   "metadata": {},
   "outputs": [
    {
     "name": "stdout",
     "output_type": "stream",
     "text": [
      "True\n",
      "False\n",
      "\n",
      "------------------------------------\n",
      "\n"
     ]
    }
   ],
   "source": [
    "# float to bool\n",
    "\n",
    "a = 10.4\n",
    "print(bool(a))\n",
    "\n",
    "a = 0.0\n",
    "print(bool(a))\n",
    "\n",
    "print(\"\\n------------------------------------\\n\")"
   ]
  },
  {
   "cell_type": "code",
   "execution_count": 100,
   "metadata": {},
   "outputs": [
    {
     "name": "stdout",
     "output_type": "stream",
     "text": [
      "False\n",
      "True\n",
      "True\n",
      "\n",
      "------------------------------------\n",
      "\n"
     ]
    }
   ],
   "source": [
    "# complex to bool\n",
    "\n",
    "print(bool(0+0j))\n",
    "print(bool(1+0j))\n",
    "print(bool(0+1j))\n",
    "\n",
    "print(\"\\n------------------------------------\\n\")"
   ]
  },
  {
   "cell_type": "code",
   "execution_count": 101,
   "metadata": {},
   "outputs": [
    {
     "name": "stdout",
     "output_type": "stream",
     "text": [
      "False\n",
      "True\n",
      "True\n",
      "\n",
      "------------------------------------\n",
      "\n"
     ]
    }
   ],
   "source": [
    "# str to bool - empty string means false and any value in str means true\n",
    "\n",
    "a = ''\n",
    "print(bool(a))\n",
    "\n",
    "a = 'anitha'\n",
    "print(bool(a))\n",
    "\n",
    "a = '0b1111'\n",
    "print(bool(a))\n",
    "\n",
    "print(\"\\n------------------------------------\\n\")"
   ]
  },
  {
   "cell_type": "code",
   "execution_count": 102,
   "metadata": {},
   "outputs": [
    {
     "name": "stdout",
     "output_type": "stream",
     "text": [
      "101\n",
      "31\n",
      "64206\n"
     ]
    }
   ],
   "source": [
    "# string function\n",
    "# other data types to str type using str function\n",
    "\n",
    "# int to str type\n",
    "\n",
    "a = 101\n",
    "print(str(a))\n",
    "\n",
    "a = 0b11111\n",
    "print(str(a))\n",
    "\n",
    "a = 0xface\n",
    "print(str(a))"
   ]
  },
  {
   "cell_type": "code",
   "execution_count": 103,
   "metadata": {},
   "outputs": [
    {
     "name": "stdout",
     "output_type": "stream",
     "text": [
      "110.56\n",
      "<class 'str'>\n"
     ]
    }
   ],
   "source": [
    "# float to str\n",
    "\n",
    "a = 110.56\n",
    "print(str(a))\n",
    "print(type(str(a)))"
   ]
  },
  {
   "cell_type": "code",
   "execution_count": 104,
   "metadata": {},
   "outputs": [
    {
     "name": "stdout",
     "output_type": "stream",
     "text": [
      "<class 'bool'>\n",
      "True\n",
      "<class 'str'>\n",
      "##################################################\n",
      "<class 'complex'>\n",
      "(10+56j)\n",
      "<class 'str'>\n"
     ]
    }
   ],
   "source": [
    "# bool to str\n",
    "\n",
    "a = True\n",
    "print(type(a))\n",
    "print(str(a))\n",
    "print(type(str(a)))\n",
    "\n",
    "print (50*'#')\n",
    "\n",
    "a = 10+56j\n",
    "print(type(a))\n",
    "print(str(a))\n",
    "print(type(str(a)))"
   ]
  },
  {
   "cell_type": "code",
   "execution_count": 105,
   "metadata": {},
   "outputs": [
    {
     "name": "stdout",
     "output_type": "stream",
     "text": [
      "140734209276864\n",
      "140734209276864\n",
      "both x and y id will be same coz pvm' will assign the same 'x' value to y variable\n",
      "##################################################\n",
      "48\n",
      "140734209276864\n",
      "140734209277184\n",
      "y will have different id's\n",
      "##################################################\n",
      "140734209275680\n",
      "2\n",
      "140734209275712\n",
      "X will have different id's\n"
     ]
    }
   ],
   "source": [
    "# Immutability - In python we cannot change an object if we try to change PVM will create a new object\n",
    "# python objects is immune to changes. this is called immutability\n",
    "\n",
    "x = 38\n",
    "print(id(x))\n",
    "y = x\n",
    "print(id(y))\n",
    "print(\"both x and y id will be same coz pvm' will assign the same 'x' value to y variable\")\n",
    "\n",
    "print (50*'#')\n",
    "\n",
    "y = y+10\n",
    "print(y)\n",
    "print(id(x))\n",
    "print(id(y))\n",
    "print(\"y will have different id's\")\n",
    "\n",
    "print (50*'#')\n",
    "\n",
    "x = 1\n",
    "print(id(x))\n",
    "x = x+1\n",
    "print(x)\n",
    "print(id(x))\n",
    "print(\"X will have different id's\")"
   ]
  },
  {
   "cell_type": "code",
   "execution_count": null,
   "metadata": {},
   "outputs": [],
   "source": [
    "# immutable - nonchangeable\n",
    "# Advantages of immutabiliy - memory utilization (coz create operation is more costly than search operation )\n",
    "# performance is improved."
   ]
  },
  {
   "cell_type": "code",
   "execution_count": null,
   "metadata": {},
   "outputs": [],
   "source": [
    "# all the fundamental data types are immutable \n",
    "# object reusability is not there for complex data type\n",
    "# if there is single value we use fundamental data types for a group of values as a single entity \n",
    "# we use other data types such as\n",
    "# list - []\n",
    "# tuple()\n",
    "# set {}\n",
    "# frozenset - frozenset{}\n",
    "# dict - {keyvalue:pair}\n",
    "# bytes - bytes[]\n",
    "# bytearray - bytearrar[]\n",
    "# range - ()"
   ]
  },
  {
   "cell_type": "code",
   "execution_count": null,
   "metadata": {},
   "outputs": [],
   "source": [
    "# list data type - mutable ( denoted by  [ ] )\n",
    "\n",
    "# ---------------------------------------------------------------------------------------------------------------------------\n",
    "\n",
    "# collection of objects where order is important .\n",
    "# duplicates are allowed\n",
    "# order is maintained\n",
    "# heterogenous objects are allowed [10, 'python', 10, 30, 20, 20]\n",
    "# indexing and slicing can be done coz order is maintained\n",
    "# growable in nature ( append and remove functions can be used to add or remove elements )\n",
    "# Append - to add an element\n",
    "# remove - to remove an element"
   ]
  },
  {
   "cell_type": "code",
   "execution_count": 59,
   "metadata": {},
   "outputs": [
    {
     "name": "stdout",
     "output_type": "stream",
     "text": [
      "<class 'list'>\n",
      "l1: [10, 'python', 20, 20, 10, 40]\n",
      "<class 'list'>\n",
      "l2: [10, 'python', 20, 20, 10, 40]\n",
      "False\n",
      "True\n"
     ]
    }
   ],
   "source": [
    "# to print list\n",
    "l1 = [10,'python',20,20,10,40]\n",
    "print(type(l1))\n",
    "print ('l1:',(l1))\n",
    "\n",
    "l2 = [10,'python',20,20,10,40]\n",
    "print(type(l2))\n",
    "print ('l2:',(l2))\n",
    "\n",
    "# id's of l1 and l2 are different though the content is same\n",
    "# is operator is used for reference comparision so we get False though the content is same \n",
    "# coz there is no object reusability in collection data types\n",
    "\n",
    "print(l1 is l2)\n",
    "\n",
    "\n",
    "# equality operator (==) is used for content comparision so we get true coz the content is same for l1 and l2\n",
    "\n",
    "print(l1==l2)\n"
   ]
  },
  {
   "cell_type": "code",
   "execution_count": 17,
   "metadata": {},
   "outputs": [
    {
     "name": "stdout",
     "output_type": "stream",
     "text": [
      "10\n",
      "40\n",
      "20\n"
     ]
    }
   ],
   "source": [
    "# index and slice functions in list\n",
    "# Index - to extract a character from a particular position\n",
    "\n",
    "print (l1[0]) # to extract a character from 0th position from l1\n",
    "\n",
    "print (l2[5]) # to extract a character from 5th position from l2\n",
    "\n",
    "# if we use negative index then pvm will calculate from right to left and the indexing will start from -1\n",
    "\n",
    "print (l1[-3]) # pvm is calculating from right to left hence, the ans is 20 from right to left"
   ]
  },
  {
   "cell_type": "code",
   "execution_count": 23,
   "metadata": {},
   "outputs": [
    {
     "name": "stdout",
     "output_type": "stream",
     "text": [
      "['python', 20, 20, 10]\n",
      "[10, 'python', 20, 20]\n",
      "[20, 20, 10, 40]\n",
      "[10, 40]\n"
     ]
    }
   ],
   "source": [
    "# slice function - to extract a substring from a string - [ begin:end ]\n",
    "# we get result from begin index to end-1 index\n",
    "\n",
    "print(l2[1:5]) # we get elements from 1st position to end-1 that is 5-1 4th position\n",
    "\n",
    "print(l1[:4]) # if we dont mention anything in the begin index we get elements from starting\n",
    "\n",
    "print(l1[2:]) # if we dont mention anything in the end index we get elements begin index to last\n",
    "\n",
    "print(l2[4:100]) # if we mention end index out of range we get all the elements till the last\n",
    "\n",
    "# there is no negative slicing or negative index in slice function "
   ]
  },
  {
   "cell_type": "code",
   "execution_count": 44,
   "metadata": {},
   "outputs": [
    {
     "name": "stdout",
     "output_type": "stream",
     "text": [
      "[]\n",
      "[10, 'python', 10.5, (10+67j), True]\n"
     ]
    }
   ],
   "source": [
    "# appending elements to list - append function\n",
    "\n",
    "# to create empty list data set\n",
    "\n",
    "l=[ ]\n",
    "print(l)\n",
    "\n",
    "# adding new elements to empty data set\n",
    "\n",
    "l.append(10)\n",
    "l.append('python')\n",
    "l.append(10.5)\n",
    "l.append(10+67j)\n",
    "l.append(True)\n",
    "\n",
    "print(l)\n"
   ]
  },
  {
   "cell_type": "code",
   "execution_count": 46,
   "metadata": {},
   "outputs": [
    {
     "name": "stdout",
     "output_type": "stream",
     "text": [
      "[10, 'python', 10.5, (10+67j), True]\n",
      "[10, 'python', (10+67j)]\n"
     ]
    }
   ],
   "source": [
    "# Removing elements from list - remove function \n",
    "\n",
    "print(l)\n",
    "\n",
    "l.remove(10.5)\n",
    "l.remove(True)\n",
    "\n",
    "print(l)"
   ]
  },
  {
   "cell_type": "code",
   "execution_count": 65,
   "metadata": {
    "scrolled": true
   },
   "outputs": [
    {
     "name": "stdout",
     "output_type": "stream",
     "text": [
      "[10, 'python', 20, 100, 10, 52]\n"
     ]
    }
   ],
   "source": [
    "# list is mutable so we can change content \n",
    "\n",
    "l1=[10, 'python', 20, 20, 10, 40]\n",
    "\n",
    "l1[3]=100\n",
    "l1[5]=52\n",
    "\n",
    "print(l1)"
   ]
  },
  {
   "cell_type": "code",
   "execution_count": 66,
   "metadata": {},
   "outputs": [
    {
     "name": "stdout",
     "output_type": "stream",
     "text": [
      "<class 'tuple'>\n",
      "(46, 59, 'programming,', True, 84.98, (24+67j), 59, 'programming')\n"
     ]
    }
   ],
   "source": [
    "# tuple data type - same as list but it is immutable\n",
    "# collection of objects where order is important \n",
    "\n",
    "t=(46,59,'programming,',True,84.98,24+67j,59,'programming')\n",
    "print(type(t))\n",
    "print(t)\n"
   ]
  },
  {
   "cell_type": "code",
   "execution_count": 72,
   "metadata": {},
   "outputs": [
    {
     "name": "stdout",
     "output_type": "stream",
     "text": [
      "programming,\n",
      "True\n"
     ]
    },
    {
     "ename": "IndexError",
     "evalue": "tuple index out of range",
     "output_type": "error",
     "traceback": [
      "\u001b[1;31m---------------------------------------------------------------------------\u001b[0m",
      "\u001b[1;31mIndexError\u001b[0m                                Traceback (most recent call last)",
      "\u001b[1;32m<ipython-input-72-9a4efbbdb623>\u001b[0m in \u001b[0;36m<module>\u001b[1;34m\u001b[0m\n\u001b[0;32m      6\u001b[0m \u001b[0mprint\u001b[0m\u001b[1;33m(\u001b[0m\u001b[0mt\u001b[0m\u001b[1;33m[\u001b[0m\u001b[1;33m-\u001b[0m\u001b[1;36m5\u001b[0m\u001b[1;33m]\u001b[0m\u001b[1;33m)\u001b[0m \u001b[1;31m# negative index\u001b[0m\u001b[1;33m\u001b[0m\u001b[1;33m\u001b[0m\u001b[0m\n\u001b[0;32m      7\u001b[0m \u001b[1;33m\u001b[0m\u001b[0m\n\u001b[1;32m----> 8\u001b[1;33m \u001b[0mprint\u001b[0m \u001b[1;33m(\u001b[0m\u001b[0mt\u001b[0m\u001b[1;33m[\u001b[0m\u001b[1;36m10\u001b[0m\u001b[1;33m]\u001b[0m\u001b[1;33m)\u001b[0m\u001b[1;33m\u001b[0m\u001b[1;33m\u001b[0m\u001b[0m\n\u001b[0m",
      "\u001b[1;31mIndexError\u001b[0m: tuple index out of range"
     ]
    }
   ],
   "source": [
    "# indexing and slicing can also be done in tuple\n",
    "\n",
    "t=(46,59,'programming,',True,84.98,24+67j,59,'programming')\n",
    "\n",
    "print (t[2])\n",
    "\n",
    "print(t[-5]) # negative index\n",
    "\n",
    "# --------------------------------------------------------------------------------------------------------------------------\n",
    "\n",
    "# if we call out of range index we get error\n",
    "# print (t[10])\n",
    "# IndexError                                Traceback (most recent call last)\n",
    "# <ipython-input-72-9a4efbbdb623> in <module>\n",
    "#      6 print(t[-5]) # negative index\n",
    "#      7 \n",
    "# ----> 8 print (t[10])\n",
    "# \n",
    "# IndexError: tuple index out of range"
   ]
  },
  {
   "cell_type": "code",
   "execution_count": 77,
   "metadata": {},
   "outputs": [
    {
     "name": "stdout",
     "output_type": "stream",
     "text": [
      "('programming,', True, 84.98, (24+67j))\n",
      "(46, 59, 'programming,', True, 84.98)\n",
      "(True, 84.98, (24+67j), 59, 'programming')\n"
     ]
    }
   ],
   "source": [
    "# slice function in tuple [begin:end]\n",
    "\n",
    "t=(46,59,'programming,',True,84.98,24+67j,59,'programming')\n",
    "\n",
    "print(t[2:6])\n",
    "\n",
    "print(t[:5])\n",
    "\n",
    "print(t[3:])"
   ]
  },
  {
   "cell_type": "code",
   "execution_count": 84,
   "metadata": {},
   "outputs": [
    {
     "ename": "AttributeError",
     "evalue": "'tuple' object has no attribute 'remove'",
     "output_type": "error",
     "traceback": [
      "\u001b[1;31m---------------------------------------------------------------------------\u001b[0m",
      "\u001b[1;31mAttributeError\u001b[0m                            Traceback (most recent call last)",
      "\u001b[1;32m<ipython-input-84-c97967c4c0f1>\u001b[0m in \u001b[0;36m<module>\u001b[1;34m\u001b[0m\n\u001b[0;32m     22\u001b[0m \u001b[1;31m# AttributeError: 'tuple' object has no attribute 'append'\u001b[0m\u001b[1;33m\u001b[0m\u001b[1;33m\u001b[0m\u001b[1;33m\u001b[0m\u001b[0m\n\u001b[0;32m     23\u001b[0m \u001b[1;33m\u001b[0m\u001b[0m\n\u001b[1;32m---> 24\u001b[1;33m \u001b[0mt\u001b[0m\u001b[1;33m.\u001b[0m\u001b[0mremove\u001b[0m\u001b[1;33m(\u001b[0m\u001b[1;32mTrue\u001b[0m\u001b[1;33m)\u001b[0m\u001b[1;33m\u001b[0m\u001b[1;33m\u001b[0m\u001b[0m\n\u001b[0m",
      "\u001b[1;31mAttributeError\u001b[0m: 'tuple' object has no attribute 'remove'"
     ]
    }
   ],
   "source": [
    "# we cannot append, change or remove elements from tuple coz tuple is immutable if we try to then we get error\n",
    "\n",
    "# t=(46,59,'programming,',True,84.98,24+67j,59,'programming')\n",
    "\n",
    "# t[3]=False\n",
    "# TypeError                                 Traceback (most recent call last)\n",
    "# <ipython-input-82-a745d4bf30f5> in <module>\n",
    "#       3 t=(46,59,'programming,',True,84.98,24+67j,59,'programming')\n",
    "#       4 \n",
    "# ----> 5 t[3]=False\n",
    "\n",
    "# TypeError: 'tuple' object does not support item assignment\n",
    "\n",
    "# ---------------------------------------------------------------------------------------------------------------------------\n",
    "\n",
    "# t.append(68)\n",
    "\n",
    "# AttributeError                            Traceback (most recent call last)\n",
    "# <ipython-input-83-d12bfb7585b9> in <module>\n",
    "#      12 # TypeError: 'tuple' object does not support item assignment\n",
    "#      13 \n",
    "# ---> 14 t.append(68)\n",
    "\n",
    "# AttributeError: 'tuple' object has no attribute 'append'\n",
    "\n",
    "# ---------------------------------------------------------------------------------------------------------------------------\n",
    "\n",
    "# t.remove(True)\n",
    "\n",
    "# AttributeError                            Traceback (most recent call last)\n",
    "# <ipython-input-84-c97967c4c0f1> in <module>\n",
    "#      22 # AttributeError: 'tuple' object has no attribute 'append'\n",
    "#      23 \n",
    "# ---> 24 t.remove(True)\n",
    "\n",
    "# AttributeError: 'tuple' object has no attribute 'remove'\n"
   ]
  },
  {
   "cell_type": "code",
   "execution_count": 25,
   "metadata": {},
   "outputs": [
    {
     "name": "stdout",
     "output_type": "stream",
     "text": [
      "<class 'tuple'>\n",
      "<class 'int'>\n",
      "<class 'tuple'>\n"
     ]
    }
   ],
   "source": [
    "# to create empty tuple\n",
    "\n",
    "t=()\n",
    "\n",
    "print(type(t))\n",
    "\n",
    "# creating tuple with single value we get the type as int type\n",
    "\n",
    "t=(10)\n",
    "print(type(t))\n",
    "\n",
    "# so we have to put a comma(,) to get the data type as tuple\n",
    "\n",
    "t=(10,)\n",
    "print(type(t))\n"
   ]
  },
  {
   "cell_type": "code",
   "execution_count": null,
   "metadata": {},
   "outputs": [],
   "source": [
    "# characteristics of tuple\n",
    "# -------------------------\n",
    "# collection of objects where order is important .\n",
    "# duplicates are allowed\n",
    "# order is maintained\n",
    "# heterogenous objects are allowed \n",
    "# indexing and slicing can be done coz order is maintained\n",
    "# immutable"
   ]
  },
  {
   "cell_type": "code",
   "execution_count": 92,
   "metadata": {},
   "outputs": [
    {
     "name": "stdout",
     "output_type": "stream",
     "text": [
      "<class 'set'>\n",
      "{True, 'python', 46, (38+67j), 16, 20, 22, 89}\n",
      "<class 'set'>\n",
      "{True, 'python', 46, (38+67j), 16, 20, 22, 89}\n",
      "<class 'set'>\n",
      "{True, 'python', 46, (38+67j), 16, 20, 22, 89}\n"
     ]
    },
    {
     "data": {
      "text/plain": [
       "True"
      ]
     },
     "execution_count": 92,
     "metadata": {},
     "output_type": "execute_result"
    }
   ],
   "source": [
    "# set data type - { }\n",
    "\n",
    "# ---------------------------------------------------------------------------------------------------------------------------\n",
    "# collection of random unique objects \n",
    "# denoted by { }\n",
    "\n",
    "s1={20,46,89,16,'python',True,38+67j,22}\n",
    "print(type(s1))\n",
    "print(s1)\n",
    "\n",
    "s2={20,89,'python',True,38+67j,16,46,22}\n",
    "print(type(s2))\n",
    "print(s2)\n",
    "\n",
    "s3={22,'python',38+67j,20,46,16,True,89}\n",
    "print(type(s3))\n",
    "print(s3)\n",
    "\n",
    "s1==s2==s3 # content is same equality operator"
   ]
  },
  {
   "cell_type": "code",
   "execution_count": 96,
   "metadata": {},
   "outputs": [
    {
     "ename": "TypeError",
     "evalue": "'set' object is not subscriptable",
     "output_type": "error",
     "traceback": [
      "\u001b[1;31m---------------------------------------------------------------------------\u001b[0m",
      "\u001b[1;31mTypeError\u001b[0m                                 Traceback (most recent call last)",
      "\u001b[1;32m<ipython-input-96-5d5143b4582f>\u001b[0m in \u001b[0;36m<module>\u001b[1;34m\u001b[0m\n\u001b[0;32m      3\u001b[0m \u001b[0ms1\u001b[0m\u001b[1;33m=\u001b[0m\u001b[1;33m{\u001b[0m\u001b[1;36m22\u001b[0m\u001b[1;33m,\u001b[0m\u001b[1;34m'python'\u001b[0m\u001b[1;33m,\u001b[0m\u001b[1;36m38\u001b[0m\u001b[1;33m+\u001b[0m\u001b[1;36m67j\u001b[0m\u001b[1;33m,\u001b[0m\u001b[1;36m20\u001b[0m\u001b[1;33m,\u001b[0m\u001b[1;36m46\u001b[0m\u001b[1;33m,\u001b[0m\u001b[1;36m16\u001b[0m\u001b[1;33m,\u001b[0m\u001b[1;32mTrue\u001b[0m\u001b[1;33m,\u001b[0m\u001b[1;36m89\u001b[0m\u001b[1;33m}\u001b[0m\u001b[1;33m\u001b[0m\u001b[1;33m\u001b[0m\u001b[0m\n\u001b[0;32m      4\u001b[0m \u001b[1;33m\u001b[0m\u001b[0m\n\u001b[1;32m----> 5\u001b[1;33m \u001b[0mprint\u001b[0m\u001b[1;33m(\u001b[0m\u001b[0ms1\u001b[0m\u001b[1;33m[\u001b[0m\u001b[1;36m3\u001b[0m\u001b[1;33m]\u001b[0m\u001b[1;33m)\u001b[0m\u001b[1;33m\u001b[0m\u001b[1;33m\u001b[0m\u001b[0m\n\u001b[0m",
      "\u001b[1;31mTypeError\u001b[0m: 'set' object is not subscriptable"
     ]
    }
   ],
   "source": [
    "# indexing and slicing are not applicable in set coz there is no order\n",
    "\n",
    "# s1={22,'python',38+67j,20,46,16,True,89}\n",
    "\n",
    "# print(s1[3])\n",
    "# ---------------------------------------------------------------------------\n",
    "# TypeError                                 Traceback (most recent call last)\n",
    "# <ipython-input-96-5d5143b4582f> in <module>\n",
    "#       3 s1={22,'python',38+67j,20,46,16,True,89}\n",
    "#       4 \n",
    "# ----> 5 print(s1[3])\n",
    "\n",
    "# TypeError: 'set' object is not subscriptable\n"
   ]
  },
  {
   "cell_type": "code",
   "execution_count": 97,
   "metadata": {},
   "outputs": [
    {
     "ename": "TypeError",
     "evalue": "'set' object is not subscriptable",
     "output_type": "error",
     "traceback": [
      "\u001b[1;31m---------------------------------------------------------------------------\u001b[0m",
      "\u001b[1;31mTypeError\u001b[0m                                 Traceback (most recent call last)",
      "\u001b[1;32m<ipython-input-97-b05e8a971596>\u001b[0m in \u001b[0;36m<module>\u001b[1;34m\u001b[0m\n\u001b[0;32m      3\u001b[0m \u001b[0ms1\u001b[0m\u001b[1;33m=\u001b[0m\u001b[1;33m{\u001b[0m\u001b[1;36m22\u001b[0m\u001b[1;33m,\u001b[0m\u001b[1;34m'python'\u001b[0m\u001b[1;33m,\u001b[0m\u001b[1;36m38\u001b[0m\u001b[1;33m+\u001b[0m\u001b[1;36m67j\u001b[0m\u001b[1;33m,\u001b[0m\u001b[1;36m20\u001b[0m\u001b[1;33m,\u001b[0m\u001b[1;36m46\u001b[0m\u001b[1;33m,\u001b[0m\u001b[1;36m16\u001b[0m\u001b[1;33m,\u001b[0m\u001b[1;32mTrue\u001b[0m\u001b[1;33m,\u001b[0m\u001b[1;36m89\u001b[0m\u001b[1;33m}\u001b[0m\u001b[1;33m\u001b[0m\u001b[1;33m\u001b[0m\u001b[0m\n\u001b[0;32m      4\u001b[0m \u001b[1;33m\u001b[0m\u001b[0m\n\u001b[1;32m----> 5\u001b[1;33m \u001b[0mprint\u001b[0m\u001b[1;33m(\u001b[0m\u001b[0ms1\u001b[0m\u001b[1;33m[\u001b[0m\u001b[1;36m0\u001b[0m\u001b[1;33m:\u001b[0m\u001b[1;36m3\u001b[0m\u001b[1;33m]\u001b[0m\u001b[1;33m)\u001b[0m\u001b[1;33m\u001b[0m\u001b[1;33m\u001b[0m\u001b[0m\n\u001b[0m",
      "\u001b[1;31mTypeError\u001b[0m: 'set' object is not subscriptable"
     ]
    }
   ],
   "source": [
    "# slicing also not applicable for set data type\n",
    "\n",
    "# s1={22,'python',38+67j,20,46,16,True,89}\n",
    "\n",
    "# print(s1[0:3])\n",
    "# ---------------------------------------------------------------------------\n",
    "# TypeError                                 Traceback (most recent call last)\n",
    "# <ipython-input-97-b05e8a971596> in <module>\n",
    "#       3 s1={22,'python',38+67j,20,46,16,True,89}\n",
    "#       4 \n",
    "# ----> 5 print(s1[0:3])\n",
    "\n",
    "# TypeError: 'set' object is not subscriptable"
   ]
  },
  {
   "cell_type": "code",
   "execution_count": 108,
   "metadata": {},
   "outputs": [
    {
     "name": "stdout",
     "output_type": "stream",
     "text": [
      "{True, 'python', 46, (38+67j), 16, 20, 22, 89}\n",
      "{True, 'python', 100, 46, (38+67j), 16, 50, 20, 22, 183, 89}\n",
      "{True, 'python', 100, (38+67j), 16, 50, 20, 183}\n"
     ]
    }
   ],
   "source": [
    "# we can add and remove objects in set data type\n",
    "\n",
    "s1={22,'python',38+67j,20,46,16,True,89}\n",
    "print (s1)\n",
    "\n",
    "s1.add(50)\n",
    "s1.add(100)\n",
    "s1.add(183)\n",
    "\n",
    "print(s1)\n",
    "\n",
    "s1.remove(89)\n",
    "s1.remove(46)\n",
    "s1.remove(22)\n",
    "\n",
    "print(s1)"
   ]
  },
  {
   "cell_type": "code",
   "execution_count": 114,
   "metadata": {},
   "outputs": [
    {
     "name": "stdout",
     "output_type": "stream",
     "text": [
      "<class 'dict'>\n",
      "<class 'set'>\n"
     ]
    }
   ],
   "source": [
    "# to create empty set\n",
    "# empty set data type indicates dict\n",
    "\n",
    "s={}\n",
    "print(type(s))\n",
    "\n",
    "# to create empty set\n",
    "\n",
    "s=set()\n",
    "print(type(s))\n"
   ]
  },
  {
   "cell_type": "code",
   "execution_count": null,
   "metadata": {},
   "outputs": [],
   "source": [
    "# characteristics of set\n",
    "# -------------------------\n",
    "# collection of unique objects - so no duplicates\n",
    "# order is not preserved\n",
    "# heterogenous objects are allowed \n",
    "# indexing and slicing cannot be done coz order is not preserved\n",
    "# mutable\n",
    "# growable in nature"
   ]
  },
  {
   "cell_type": "code",
   "execution_count": 115,
   "metadata": {},
   "outputs": [
    {
     "name": "stdout",
     "output_type": "stream",
     "text": [
      "<class 'frozenset'>\n",
      "frozenset({True, 'python', 46, (38+67j), 16, 20, 22, 89})\n"
     ]
    }
   ],
   "source": [
    "# frozenset - same as set but frozen set is immutable\n",
    "\n",
    "s={22,'python',38+67j,20,46,16,True,89}\n",
    "\n",
    "fs=frozenset(s)\n",
    "print(type(fs))\n",
    "print(fs)\n",
    "\n"
   ]
  },
  {
   "cell_type": "code",
   "execution_count": null,
   "metadata": {},
   "outputs": [],
   "source": [
    "# as frozenset is immutable we cannot add or remove the objects\n",
    "# indexing and slicing is not applicable as order is not preserved \n",
    "\n",
    "# add and removefunction in frozenset we get attribute error\n",
    "# index and slice function in frozenset we get type error"
   ]
  },
  {
   "cell_type": "code",
   "execution_count": 117,
   "metadata": {},
   "outputs": [
    {
     "name": "stdout",
     "output_type": "stream",
     "text": [
      "<class 'dict'>\n",
      "{95: 'python', 20: 'software', 35: 'programming'}\n"
     ]
    }
   ],
   "source": [
    "# dict data type - { } - {key:value }\n",
    "# dict data type can be used to represent key value pairs eg: roll no:name, mobile no.:address\n",
    "# dict = dictionary\n",
    "\n",
    "# d={k1:v1,k2:v2,k3:v3.....kn:vn}\n",
    "\n",
    "d={95:'python',20:'software',35:'programming'}\n",
    "print(type(d))\n",
    "print(d)\n"
   ]
  },
  {
   "cell_type": "code",
   "execution_count": 127,
   "metadata": {},
   "outputs": [
    {
     "name": "stdout",
     "output_type": "stream",
     "text": [
      "{}\n",
      "{95: 'python', 20: 'sftware', 35: 'programming'}\n"
     ]
    }
   ],
   "source": [
    "\n",
    "#  to create empty dict\n",
    "\n",
    "d={}\n",
    "print(d)\n",
    "\n",
    "# to add key and value to the dict - d[key]=value\n",
    "# order is not preserved\n",
    "d[95]='python'\n",
    "d[20]='sotware'\n",
    "d[35]='programming'\n",
    "print(d)"
   ]
  },
  {
   "cell_type": "code",
   "execution_count": 135,
   "metadata": {},
   "outputs": [
    {
     "name": "stdout",
     "output_type": "stream",
     "text": [
      "{95: 'learning', 20: 'software', 35: 'programming', 100: 'python', 60: 'python'}\n"
     ]
    }
   ],
   "source": [
    "# duplicate keys are not allowed but duplicate values are allowed\n",
    "\n",
    "d={95:'python',20:'software',35:'programming'}\n",
    "\n",
    "d[100]='python'\n",
    "d[60]='python'\n",
    "d[95]='learning'\n",
    "\n",
    "print(d)\n",
    "\n",
    "# in the above example 'python' value for 95 key is replaced with new 'learning' value\n"
   ]
  },
  {
   "cell_type": "code",
   "execution_count": null,
   "metadata": {},
   "outputs": [],
   "source": [
    "# characteristics of dict\n",
    "# a group of keyvalue pairs \n",
    "# order is not applicable\n",
    "# duplicate keys are not allowed but values can be duplicated\n",
    "# heterogenous objects are allowed for key and value\n",
    "# mutable\n",
    "# indexing and slicing are not applicable"
   ]
  },
  {
   "cell_type": "code",
   "execution_count": 140,
   "metadata": {},
   "outputs": [
    {
     "name": "stdout",
     "output_type": "stream",
     "text": [
      "<class 'range'>\n",
      "range(0, 10)\n",
      "0\n",
      "1\n",
      "2\n",
      "3\n",
      "4\n",
      "5\n",
      "6\n",
      "7\n",
      "8\n",
      "9\n"
     ]
    }
   ],
   "source": [
    "# range data type - most commonly used data\n",
    "# to represent a sequence or range of numbers\n",
    "# range is an inbuilt function in python\n",
    "# range can be represented in three forms\n",
    "# form - 1\n",
    "# range(n) - represents sequence of numbers from 0 to n\n",
    "\n",
    "r=range(10)\n",
    "print(type(r))\n",
    "print(r)\n",
    "\n",
    "for x in r:\n",
    "    print(x)\n"
   ]
  },
  {
   "cell_type": "code",
   "execution_count": 142,
   "metadata": {},
   "outputs": [
    {
     "name": "stdout",
     "output_type": "stream",
     "text": [
      "<class 'range'>\n",
      "range(10, 21)\n",
      "10\n",
      "11\n",
      "12\n",
      "13\n",
      "14\n",
      "15\n",
      "16\n",
      "17\n",
      "18\n",
      "19\n",
      "20\n"
     ]
    }
   ],
   "source": [
    "# form - 2\n",
    "# = range(begin,end) - represents sequence of numbers from begin to end-1\n",
    "\n",
    "r2=range(10,21)\n",
    "print(type(r2))\n",
    "print(r2)\n",
    "\n",
    "for x in r2:\n",
    "    print(x)\n"
   ]
  },
  {
   "cell_type": "code",
   "execution_count": 147,
   "metadata": {},
   "outputs": [
    {
     "name": "stdout",
     "output_type": "stream",
     "text": [
      "<class 'range'>\n",
      "range(0, 50, 5)\n",
      "0\n",
      "5\n",
      "10\n",
      "15\n",
      "20\n",
      "25\n",
      "30\n",
      "35\n",
      "40\n",
      "45\n",
      "<class 'range'>\n",
      "range(50, 0, -5)\n",
      "50\n",
      "45\n",
      "40\n",
      "35\n",
      "30\n",
      "25\n",
      "20\n",
      "15\n",
      "10\n",
      "5\n"
     ]
    }
   ],
   "source": [
    "# form - 3\n",
    "# = range(begin,end,increment or decrement value) - represents sequence of numbers from begin to end-1 incrementing \n",
    "# or decrementing by the given value\n",
    "\n",
    "r3=range(0,50,5)\n",
    "print(type(r3))\n",
    "print(r3)\n",
    "\n",
    "for x in r3:\n",
    "    print(x)\n",
    "\n",
    "\n",
    "# decrementing by 5\n",
    "\n",
    "r3d=range(50,0,-5)\n",
    "print(type(r3d))\n",
    "print(r3d)\n",
    "\n",
    "for x in r3d:\n",
    "    print(x)"
   ]
  },
  {
   "cell_type": "code",
   "execution_count": 154,
   "metadata": {},
   "outputs": [
    {
     "name": "stdout",
     "output_type": "stream",
     "text": [
      "20\n",
      "21\n",
      "22\n",
      "23\n",
      "24\n",
      "25\n",
      "26\n",
      "27\n",
      "28\n",
      "29\n",
      "--------------------------------------------------------------------------------\n",
      "24\n",
      "22\n"
     ]
    }
   ],
   "source": [
    "# indexing and slicing is applicable for range data type coz order is preserved\n",
    "# index\n",
    "\n",
    "r=range(20,30)\n",
    "\n",
    "for x in r:\n",
    "    print(x)\n",
    "\n",
    "print(80*'-')\n",
    "    \n",
    "print(r[4])\n",
    "print(r[-8])\n"
   ]
  },
  {
   "cell_type": "code",
   "execution_count": 160,
   "metadata": {},
   "outputs": [
    {
     "name": "stdout",
     "output_type": "stream",
     "text": [
      "range(50, 70)\n",
      "====================================================================================================\n",
      "50\n",
      "51\n",
      "52\n",
      "53\n",
      "54\n"
     ]
    }
   ],
   "source": [
    "# slice function\n",
    "\n",
    "r=range(50,70)\n",
    "print(r)\n",
    "    \n",
    "print(100*'=')\n",
    "\n",
    "r1=r[0:5]\n",
    "for x in r1:\n",
    "    print(x)"
   ]
  },
  {
   "cell_type": "code",
   "execution_count": 164,
   "metadata": {},
   "outputs": [
    {
     "ename": "AttributeError",
     "evalue": "'range' object has no attribute 'remove'",
     "output_type": "error",
     "traceback": [
      "\u001b[1;31m---------------------------------------------------------------------------\u001b[0m",
      "\u001b[1;31mAttributeError\u001b[0m                            Traceback (most recent call last)",
      "\u001b[1;32m<ipython-input-164-057f89a29886>\u001b[0m in \u001b[0;36m<module>\u001b[1;34m\u001b[0m\n\u001b[0;32m     25\u001b[0m \u001b[1;31m# AttributeError: 'range' object has no attribute 'add'\u001b[0m\u001b[1;33m\u001b[0m\u001b[1;33m\u001b[0m\u001b[1;33m\u001b[0m\u001b[0m\n\u001b[0;32m     26\u001b[0m \u001b[1;33m\u001b[0m\u001b[0m\n\u001b[1;32m---> 27\u001b[1;33m \u001b[0mr\u001b[0m\u001b[1;33m.\u001b[0m\u001b[0mremove\u001b[0m\u001b[1;33m(\u001b[0m\u001b[1;36m5\u001b[0m\u001b[1;33m)\u001b[0m\u001b[1;33m\u001b[0m\u001b[1;33m\u001b[0m\u001b[0m\n\u001b[0m",
      "\u001b[1;31mAttributeError\u001b[0m: 'range' object has no attribute 'remove'"
     ]
    }
   ],
   "source": [
    "# add or remove an element\n",
    "\n",
    "# r=range(10)\n",
    "\n",
    "# r[3]=100\n",
    "\n",
    "# ---------------------------------------------------------------------------\n",
    "# TypeError                                 Traceback (most recent call last)\n",
    "# <ipython-input-161-92517b466e2e> in <module>\n",
    "#       3 r=range(10)\n",
    "#       4 \n",
    "# ----> 5 r[3]=100\n",
    "\n",
    "# TypeError: 'range' object does not support item assignment\n",
    "    \n",
    "# r.add(100)\n",
    "\n",
    "# ---------------------------------------------------------------------------\n",
    "# AttributeError                            Traceback (most recent call last)\n",
    "# <ipython-input-163-12b8e07001ef> in <module>\n",
    "#      14 # TypeError: 'range' object does not support item assignment\n",
    "#      15 \n",
    "# ---> 16 r.add(100)\n",
    "\n",
    "# AttributeError: 'range' object has no attribute 'add'\n",
    "\n",
    "# r.remove(5)\n",
    "# ---------------------------------------------------------------------------\n",
    "# AttributeError                            Traceback (most recent call last)\n",
    "# <ipython-input-164-057f89a29886> in <module>\n",
    "#      25 # AttributeError: 'range' object has no attribute 'add'\n",
    "#      26 \n",
    "# ---> 27 r.remove(5)\n",
    "\n",
    "# AttributeError: 'range' object has no attribute 'remove'"
   ]
  },
  {
   "cell_type": "code",
   "execution_count": null,
   "metadata": {},
   "outputs": [],
   "source": [
    "# characteristics of range\n",
    "# an ordered sequence of numbers\n",
    "# order is maintained\n",
    "# duplicates are not allowed\n",
    "# indexing and slicing are applicable\n",
    "# add or remove functions are not applicable\n",
    "# immutable"
   ]
  },
  {
   "cell_type": "code",
   "execution_count": 10,
   "metadata": {},
   "outputs": [
    {
     "name": "stdout",
     "output_type": "stream",
     "text": [
      "<class 'bytes'>\n",
      "10\n",
      "20\n",
      "30\n",
      "40\n",
      "50\n"
     ]
    }
   ],
   "source": [
    "# bytes data types\n",
    "# to represent a group of byte values we use bytes data type\n",
    "\n",
    "# to write byte data types we use bytes function\n",
    "\n",
    "l=[10,20,30,40,50]\n",
    "\n",
    "b=bytes(l)\n",
    "print(type(b))\n",
    "for x in b:\n",
    "    print(x)\n"
   ]
  },
  {
   "cell_type": "code",
   "execution_count": 12,
   "metadata": {},
   "outputs": [
    {
     "name": "stdout",
     "output_type": "stream",
     "text": [
      "10\n",
      "20\n",
      "30\n",
      "40\n",
      "255\n"
     ]
    }
   ],
   "source": [
    "# we use bytes data type to handle binary data - images, video bytes, audio bytes\n",
    "\n",
    "# bytes data type can only represent values from 0 to 255\n",
    "\n",
    "# if we use out of range values we get value error\n",
    "\n",
    "# l=[10,20,30,40,256]\n",
    "# b=bytes(l)\n",
    "\n",
    "# for x in b:\n",
    "#     print(x)\n",
    "    \n",
    "# ---------------------------------------------------------------------------\n",
    "# ValueError                                Traceback (most recent call last)\n",
    "# <ipython-input-11-bbde06554f56> in <module>\n",
    "#       3 \n",
    "#       4 l=[10,20,30,40,256]\n",
    "# ----> 5 b=bytes(l)\n",
    "#       6 \n",
    "#       7 for x in b:\n",
    "\n",
    "# ValueError: bytes must be in range(0, 256)\n",
    "\n",
    "l=[10,20,30,40,255]\n",
    "b=bytes(l)\n",
    "\n",
    "for x in b:\n",
    "    print(x)\n",
    "    \n"
   ]
  },
  {
   "cell_type": "code",
   "execution_count": 23,
   "metadata": {},
   "outputs": [
    {
     "name": "stdout",
     "output_type": "stream",
     "text": [
      "10\n",
      "20\n",
      "30\n",
      "40\n",
      "255\n",
      "----------------------------------------------------------------------------------------------------\n",
      "255\n"
     ]
    },
    {
     "ename": "TypeError",
     "evalue": "'bytes' object does not support item assignment",
     "output_type": "error",
     "traceback": [
      "\u001b[1;31m---------------------------------------------------------------------------\u001b[0m",
      "\u001b[1;31mTypeError\u001b[0m                                 Traceback (most recent call last)",
      "\u001b[1;32m<ipython-input-23-f552362a5337>\u001b[0m in \u001b[0;36m<module>\u001b[1;34m\u001b[0m\n\u001b[0;32m     14\u001b[0m \u001b[1;31m# changing the value at the 4th index\u001b[0m\u001b[1;33m\u001b[0m\u001b[1;33m\u001b[0m\u001b[1;33m\u001b[0m\u001b[0m\n\u001b[0;32m     15\u001b[0m \u001b[1;33m\u001b[0m\u001b[0m\n\u001b[1;32m---> 16\u001b[1;33m \u001b[0mb\u001b[0m\u001b[1;33m[\u001b[0m\u001b[1;36m5\u001b[0m\u001b[1;33m]\u001b[0m\u001b[1;33m=\u001b[0m\u001b[1;36m50\u001b[0m\u001b[1;33m\u001b[0m\u001b[1;33m\u001b[0m\u001b[0m\n\u001b[0m",
      "\u001b[1;31mTypeError\u001b[0m: 'bytes' object does not support item assignment"
     ]
    }
   ],
   "source": [
    "# bytes data type is immutable - we cannot change its values\n",
    "\n",
    "l=[10,20,30,40,255]\n",
    "b=bytes(l)\n",
    "\n",
    "for x in b:\n",
    "    print(x)\n",
    "\n",
    "print(100*'-')\n",
    "\n",
    "# extracting the value from 4th index\n",
    "print(b[4])\n",
    "\n",
    "# changing the value at the 4th index\n",
    "\n",
    "# b[5]=50\n",
    "# ---------------------------------------------------------------------------\n",
    "# TypeError                                 Traceback (most recent call last)\n",
    "# <ipython-input-23-f552362a5337> in <module>\n",
    "#      14 # changing the value at the 4th index\n",
    "#      15 \n",
    "# ---> 16 b[5]=50\n",
    "\n",
    "# TypeError: 'bytes' object does not support item assignment"
   ]
  },
  {
   "cell_type": "code",
   "execution_count": 38,
   "metadata": {},
   "outputs": [
    {
     "name": "stdout",
     "output_type": "stream",
     "text": [
      "10\n",
      "20\n",
      "30\n",
      "40\n",
      "50\n",
      "60\n",
      "70\n",
      "80\n",
      "70\n",
      "----------------------------------------------------------------------------------------------------\n",
      "9\n",
      "----------------------------------------------------------------------------------------------------\n",
      "50 70 70\n",
      "30\n",
      "40\n",
      "50\n",
      "60\n",
      "70\n",
      "80\n",
      "70\n",
      "----------------------------------------------------------------------------------------------------\n",
      "10\n",
      "20\n",
      "30\n",
      "40\n",
      "50\n",
      "----------------------------------------------------------------------------------------------------\n",
      "50\n",
      "60\n",
      "70\n",
      "80\n",
      "70\n"
     ]
    }
   ],
   "source": [
    "# indexing and slicing concepts are applicable in bytes data types\n",
    "\n",
    "l=[10,20,30,40,50,60,70,80,70]\n",
    "b=bytes(l)\n",
    "\n",
    "for x in b:\n",
    "    print(x)\n",
    "\n",
    "print(100*'-')\n",
    "\n",
    "# to know the length \n",
    "\n",
    "print(len(b))\n",
    "\n",
    "print(100*'-')\n",
    "\n",
    "# index \n",
    "\n",
    "print(b[4],b[6],b[8])\n",
    "\n",
    "# slice function\n",
    "\n",
    "b1=b[2:9]\n",
    "for x in b1:\n",
    "    print(x)\n",
    "\n",
    "print(100*'-')\n",
    "\n",
    "b2=b[:5]\n",
    "for x in b2:\n",
    "    print(x)\n",
    "    \n",
    "print(100*'-') \n",
    "\n",
    "b3=b[4:]\n",
    "for x in b3:\n",
    "    print(x)"
   ]
  },
  {
   "cell_type": "code",
   "execution_count": null,
   "metadata": {},
   "outputs": [],
   "source": [
    "# characteristics of bytes\n",
    "# order is maintained\n",
    "# duplicates are allowed\n",
    "# indexing and slicing are applicable\n",
    "# add or remove functions are not applicable\n",
    "# immutable"
   ]
  },
  {
   "cell_type": "code",
   "execution_count": 44,
   "metadata": {},
   "outputs": [
    {
     "name": "stdout",
     "output_type": "stream",
     "text": [
      "<class 'bytearray'>\n",
      "10\n",
      "20\n",
      "30\n",
      "50\n",
      "60\n",
      "60\n",
      "60\n",
      "7\n",
      "10\n",
      "20\n",
      "30\n",
      "50\n",
      "60\n",
      "80\n",
      "60\n"
     ]
    }
   ],
   "source": [
    "# bytearray data types - mutable\n",
    "# -------------------------------------------------\n",
    "# same as bytes but bytearray is mutable\n",
    "\n",
    "l=[10,20,30,50,60,60,60]\n",
    "b=bytearray(l)\n",
    "print(type(b))\n",
    "for x in b:\n",
    "    print(x)\n",
    "    \n",
    "#  we can change values in bytearray\n",
    "\n",
    "print(len(b))\n",
    "\n",
    "b[5]=80\n",
    "\n",
    "for x in b:\n",
    "    print(x)"
   ]
  },
  {
   "cell_type": "code",
   "execution_count": 52,
   "metadata": {},
   "outputs": [
    {
     "name": "stdout",
     "output_type": "stream",
     "text": [
      "60 80 10\n",
      "50\n",
      "60\n",
      "80\n",
      "60\n"
     ]
    }
   ],
   "source": [
    "#  index and slice functions in bytesarray\n",
    "\n",
    "print(b[6],b[5],b[0])\n",
    "\n",
    "b1=b[3:7]\n",
    "for x in b1:\n",
    "    print(x)\n"
   ]
  },
  {
   "cell_type": "code",
   "execution_count": null,
   "metadata": {},
   "outputs": [],
   "source": [
    "# characteristics of bytearray\n",
    "# order is maintained\n",
    "# duplicates are allowed\n",
    "# indexing and slicing are applicable\n",
    "# add or remove functions are not applicable\n",
    "# mutable"
   ]
  },
  {
   "cell_type": "code",
   "execution_count": 57,
   "metadata": {},
   "outputs": [
    {
     "name": "stdout",
     "output_type": "stream",
     "text": [
      "<class 'int'>\n",
      "<class 'NoneType'>\n",
      "None\n",
      "140734238599296 140734238599296 140734238599296 140734238599296\n"
     ]
    }
   ],
   "source": [
    "# none data type - no value associated\n",
    "# handling of data with no value\n",
    "# throughout python only one none object is present\n",
    "\n",
    "a=10\n",
    "print(type(a))\n",
    "\n",
    "a=None\n",
    "print(type(a))\n",
    "print(a)\n",
    "\n",
    "a=None\n",
    "b=None\n",
    "c=None\n",
    "def f1():\n",
    "    pass\n",
    "d=f1()\n",
    "print(id(a),id(b),id(c),id(d)) # same id's for all the none objects."
   ]
  },
  {
   "cell_type": "code",
   "execution_count": null,
   "metadata": {},
   "outputs": [],
   "source": []
  }
 ],
 "metadata": {
  "kernelspec": {
   "display_name": "Python 3",
   "language": "python",
   "name": "python3"
  },
  "language_info": {
   "codemirror_mode": {
    "name": "ipython",
    "version": 3
   },
   "file_extension": ".py",
   "mimetype": "text/x-python",
   "name": "python",
   "nbconvert_exporter": "python",
   "pygments_lexer": "ipython3",
   "version": "3.8.5"
  }
 },
 "nbformat": 4,
 "nbformat_minor": 4
}
