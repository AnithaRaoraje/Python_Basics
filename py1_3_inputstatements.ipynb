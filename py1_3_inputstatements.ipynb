{
 "cells": [
  {
   "cell_type": "markdown",
   "metadata": {},
   "source": [
    "# Input statements"
   ]
  },
  {
   "cell_type": "code",
   "execution_count": null,
   "metadata": {},
   "outputs": [],
   "source": [
    "# difference between raw_input and input() \n",
    "\n",
    "# raw_input() function can be used to read user provided input data\n",
    "# written form of raw_input() function will always provide in string type only\n",
    "# we have to use type casting \n",
    "# input function in python 2.x reads user provided data and give output based on the provided value\n",
    "# there is no need to perform type casting function for input statement in python 2.x"
   ]
  },
  {
   "cell_type": "markdown",
   "metadata": {},
   "source": [
    "# Input statement in python 3.x"
   ]
  },
  {
   "cell_type": "code",
   "execution_count": null,
   "metadata": {},
   "outputs": [],
   "source": [
    "# input statement in python 3.x acts as raw_input statement from python 2.x\n",
    "# type casting has to be done for all the user provided data\n",
    "# any user provided data will be taken in string format only\n",
    "# coz the most commonly used type in any programming language is str type"
   ]
  },
  {
   "cell_type": "code",
   "execution_count": 4,
   "metadata": {},
   "outputs": [
    {
     "name": "stdout",
     "output_type": "stream",
     "text": [
      "enter a value23+74j\n",
      "<class 'str'>\n"
     ]
    }
   ],
   "source": [
    "x=input('enter a value')\n",
    "print(type(x))"
   ]
  },
  {
   "cell_type": "code",
   "execution_count": 10,
   "metadata": {},
   "outputs": [
    {
     "name": "stdout",
     "output_type": "stream",
     "text": [
      "Enter a value6\n",
      "Enter a value98\n",
      "The Sum: 104\n",
      "****************************************************************************************************\n",
      "Enter a value97\n",
      "Enter a value86\n",
      "The Sum: 183\n"
     ]
    }
   ],
   "source": [
    "x=int(input('Enter a value'))\n",
    "y=int(input('Enter a value'))\n",
    "print('The Sum:',x+y)\n",
    "\n",
    "print(100*'*')\n",
    "\n",
    "# ****************************     OR    ********************************\n",
    "\n",
    "print('The Sum:', int(input('Enter a value')) + int(input('Enter a value')))"
   ]
  },
  {
   "cell_type": "code",
   "execution_count": 4,
   "metadata": {},
   "outputs": [
    {
     "name": "stdout",
     "output_type": "stream",
     "text": [
      "Enter employee number 438\n",
      "Enter employee name 4794\n",
      "Enter employee salary 2984290.324\n",
      "Marital Status False\n",
      "employee number: 438\n",
      "employee name: 4794\n",
      "employee salary: 2984290.324\n",
      "Marital status: True\n",
      "Enter employee number: 483\n",
      "Enter employee name: 398325\n",
      "Enter employee salary: 38043.342\n",
      "Marital Status[True/False]: False\n",
      "employee number: 483\n",
      "employee name: 398325\n",
      "employee salary: 38043.342\n",
      "Marital status: False\n"
     ]
    }
   ],
   "source": [
    "# read input data from the keyboard and print to the output\n",
    "empno = int(input('Enter employee number '))\n",
    "empname = input('Enter employee name ')\n",
    "empsal = float(input('Enter employee salary '))\n",
    "marstatus = bool(input('Marital Status '))\n",
    "print('employee number:',empno)\n",
    "print('employee name:',empname)\n",
    "print('employee salary:',empsal)\n",
    "print('Marital status:',marstatus)\n",
    "\n",
    "# conflict of bool results as it is not an empty string\n",
    "\n",
    "empno = int(input('Enter employee number: '))\n",
    "empname = input('Enter employee name: ')\n",
    "empsal = float(input('Enter employee salary: '))\n",
    "marstatus = eval(input('Marital Status[True/False]: '))\n",
    "print('employee number:',empno)\n",
    "print('employee name:',empname)\n",
    "print('employee salary:',empsal)\n",
    "print('Marital status:',marstatus)"
   ]
  },
  {
   "cell_type": "markdown",
   "metadata": {},
   "source": [
    "# eval() function"
   ]
  },
  {
   "cell_type": "code",
   "execution_count": 2,
   "metadata": {},
   "outputs": [
    {
     "name": "stdout",
     "output_type": "stream",
     "text": [
      "Enter Something: [87,89,876]\n",
      "<class 'str'>\n",
      "<class 'list'>\n"
     ]
    }
   ],
   "source": [
    "# eval function is used as type casting function for any type of data\n",
    "# eval function can be used for int,float,complex,str and bool type\n",
    "\n",
    "i=input('Enter Something: ')\n",
    "print(type(i))\n",
    "\n",
    "print(type(eval(i)))"
   ]
  },
  {
   "cell_type": "code",
   "execution_count": 8,
   "metadata": {},
   "outputs": [
    {
     "name": "stdout",
     "output_type": "stream",
     "text": [
      "60 <class 'int'>\n",
      "10.0 <class 'float'>\n"
     ]
    }
   ],
   "source": [
    "# eval function can be used for arithmetic operations as well along with type casting\n",
    "\n",
    "x=eval('10+20+30')\n",
    "print(x,type(x))\n",
    "\n",
    "\n",
    "y=eval('10+20/3**4//5*40')\n",
    "print(y,type(y))\n"
   ]
  },
  {
   "cell_type": "code",
   "execution_count": 9,
   "metadata": {},
   "outputs": [
    {
     "name": "stdout",
     "output_type": "stream",
     "text": [
      "Enter 3 values: 36,48,29\n",
      "The Sum: 113\n",
      "Enter 3 values: 247 73 87\n",
      "The Sum: 407\n"
     ]
    }
   ],
   "source": [
    "##### read multiple values from keyboard in a single line\n",
    "\n",
    "x,y,z=[int(x) for x in (input('Enter 3 values: ')).split(',')]\n",
    "print('The Sum:',x+y+z)\n",
    "\n",
    "# step by step \n",
    "# 1. input('Enter 3 values') '10,20,30' - 3 values will be taken as string and we want to space this string using ','\n",
    "# 2. input('Enter 3 values').split(',') ['10','20','30'] - after splittiing input is now list with 3 strings so we use int\n",
    "# 3. [int(x) for x in (input('Enter 3 values')).split(',')] [10,20] - it is a list with 3 int values\n",
    "# 4. the above values are assigned to x , y and z respectively\n",
    "\n",
    "\n",
    "a,b,c=[int(x) for x in (input('Enter 3 values: ')).split()]\n",
    "print('The Sum:',a+b+c)"
   ]
  },
  {
   "cell_type": "markdown",
   "metadata": {},
   "source": [
    "# Command line arguments"
   ]
  },
  {
   "cell_type": "code",
   "execution_count": 16,
   "metadata": {},
   "outputs": [
    {
     "name": "stdout",
     "output_type": "stream",
     "text": [
      "['__breakpointhook__', '__displayhook__', '__doc__', '__excepthook__', '__interactivehook__', '__loader__', '__name__', '__package__', '__spec__', '__stderr__', '__stdin__', '__stdout__', '__unraisablehook__', '_base_executable', '_clear_type_cache', '_current_frames', '_debugmallocstats', '_enablelegacywindowsfsencoding', '_framework', '_getframe', '_git', '_home', '_xoptions', 'addaudithook', 'api_version', 'argv', 'audit', 'base_exec_prefix', 'base_prefix', 'breakpointhook', 'builtin_module_names', 'byteorder', 'call_tracing', 'callstats', 'copyright', 'displayhook', 'dllhandle', 'dont_write_bytecode', 'exc_info', 'excepthook', 'exec_prefix', 'executable', 'exit', 'flags', 'float_info', 'float_repr_style', 'get_asyncgen_hooks', 'get_coroutine_origin_tracking_depth', 'getallocatedblocks', 'getcheckinterval', 'getdefaultencoding', 'getfilesystemencodeerrors', 'getfilesystemencoding', 'getprofile', 'getrecursionlimit', 'getrefcount', 'getsizeof', 'getswitchinterval', 'gettrace', 'getwindowsversion', 'hash_info', 'hexversion', 'implementation', 'int_info', 'intern', 'is_finalizing', 'last_traceback', 'last_type', 'last_value', 'maxsize', 'maxunicode', 'meta_path', 'modules', 'path', 'path_hooks', 'path_importer_cache', 'platform', 'prefix', 'ps1', 'ps2', 'ps3', 'pycache_prefix', 'set_asyncgen_hooks', 'set_coroutine_origin_tracking_depth', 'setcheckinterval', 'setprofile', 'setrecursionlimit', 'setswitchinterval', 'settrace', 'stderr', 'stdin', 'stdout', 'thread_info', 'unraisablehook', 'version', 'version_info', 'warnoptions', 'winver']\n",
      "************************************************************************************************************************\n"
     ]
    }
   ],
   "source": [
    "# another way to read user provided data\n",
    "# arguments passed from command prompt\n",
    "\n",
    "# sys is a pre-defined module which contains argv variable\n",
    "# argv is a list data type which can be used to read the command line arguments\n",
    "\n",
    "import sys\n",
    "print(dir(sys))\n",
    "\n",
    "\n",
    "print(120*'*')\n",
    "\n"
   ]
  },
  {
   "cell_type": "code",
   "execution_count": 17,
   "metadata": {},
   "outputs": [
    {
     "name": "stdout",
     "output_type": "stream",
     "text": [
      "<class 'list'>\n"
     ]
    }
   ],
   "source": [
    "from sys import argv\n",
    "print(type(argv))\n",
    "\n",
    "# print(argv[0]) 0th index of argv variable will always be name of the python file\n",
    "\n",
    "# argv variable from sys module can be used to avoid hard coding \n"
   ]
  },
  {
   "cell_type": "code",
   "execution_count": null,
   "metadata": {},
   "outputs": [],
   "source": []
  }
 ],
 "metadata": {
  "kernelspec": {
   "display_name": "Python 3",
   "language": "python",
   "name": "python3"
  },
  "language_info": {
   "codemirror_mode": {
    "name": "ipython",
    "version": 3
   },
   "file_extension": ".py",
   "mimetype": "text/x-python",
   "name": "python",
   "nbconvert_exporter": "python",
   "pygments_lexer": "ipython3",
   "version": "3.8.5"
  }
 },
 "nbformat": 4,
 "nbformat_minor": 4
}
