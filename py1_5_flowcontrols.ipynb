{
 "cells": [
  {
   "cell_type": "markdown",
   "metadata": {},
   "source": [
    "# Introduction to flow control"
   ]
  },
  {
   "cell_type": "code",
   "execution_count": null,
   "metadata": {},
   "outputs": [],
   "source": [
    "# At run time in which order the statements will be excecuted is flow control\n",
    "# divided into 3 categories"
   ]
  },
  {
   "cell_type": "markdown",
   "metadata": {},
   "source": [
    "# 1. Selection Statments"
   ]
  },
  {
   "cell_type": "code",
   "execution_count": null,
   "metadata": {},
   "outputs": [],
   "source": [
    "# 1. Selection Statments - based on the condition only one part of the statement is excecuted at one time\n",
    "    # if\n",
    "    # if - else\n",
    "    # if - elif - else\n",
    "    # if - elif"
   ]
  },
  {
   "cell_type": "markdown",
   "metadata": {},
   "source": [
    "# 2. Iterative Statements "
   ]
  },
  {
   "cell_type": "code",
   "execution_count": 1,
   "metadata": {},
   "outputs": [],
   "source": [
    "# A group of statements are required to excecute iteratively\n",
    "    # for loop\n",
    "    # while loop"
   ]
  },
  {
   "cell_type": "markdown",
   "metadata": {},
   "source": [
    "# 3.Transfer Statements"
   ]
  },
  {
   "cell_type": "code",
   "execution_count": 2,
   "metadata": {},
   "outputs": [],
   "source": [
    "# Sometimes control should be transferred from one statement to another\n",
    "    # break\n",
    "    # continue"
   ]
  },
  {
   "cell_type": "markdown",
   "metadata": {},
   "source": [
    "## if statement\n",
    "\n"
   ]
  },
  {
   "cell_type": "code",
   "execution_count": 29,
   "metadata": {},
   "outputs": [
    {
     "name": "stdout",
     "output_type": "stream",
     "text": [
      "Enter User Name: Anitha\n",
      "Hello Welcome\n",
      "How are you\n"
     ]
    }
   ],
   "source": [
    "name = input('Enter User Name: ')\n",
    "if name == 'Anitha':\n",
    "    print('Hello Welcome')\n",
    "print('How are you')"
   ]
  },
  {
   "cell_type": "markdown",
   "metadata": {},
   "source": [
    "## if - else statement"
   ]
  },
  {
   "cell_type": "code",
   "execution_count": 27,
   "metadata": {},
   "outputs": [
    {
     "name": "stdout",
     "output_type": "stream",
     "text": [
      "Enter User Name: Anitha\n",
      "Valid User Name\n",
      "Enter The Password\n"
     ]
    }
   ],
   "source": [
    "# Only one block of the statements will be excecuted either if or else\n",
    "\n",
    "name = input('Enter User Name: ')\n",
    "if name == 'Anitha':\n",
    "    print('Valid User Name')\n",
    "    print('Enter The Password')\n",
    "else:\n",
    "    print('Invalid User Name')"
   ]
  },
  {
   "cell_type": "code",
   "execution_count": 53,
   "metadata": {},
   "outputs": [
    {
     "name": "stdout",
     "output_type": "stream",
     "text": [
      "Enter any number245.43\n",
      "245.43 is a odd number\n"
     ]
    }
   ],
   "source": [
    "number = eval(input('Enter any number'))\n",
    "if number%2 == 0:\n",
    "    print(number,'is an even number')\n",
    "else:\n",
    "    print(number,'is a odd number')"
   ]
  },
  {
   "cell_type": "markdown",
   "metadata": {},
   "source": [
    "## if - elif - else statement"
   ]
  },
  {
   "cell_type": "code",
   "execution_count": 30,
   "metadata": {},
   "outputs": [],
   "source": [
    "# Only one block of the statements will be excecuted either if , elif or else\n",
    "# If (if) condition satisfies if block will be excecuted or \n",
    "# If (elif) condition satisfies elif block will be excecuted\n",
    "# If both the conditions fails - else block will be excecuted "
   ]
  },
  {
   "cell_type": "code",
   "execution_count": 39,
   "metadata": {},
   "outputs": [
    {
     "name": "stdout",
     "output_type": "stream",
     "text": [
      "Enter the score: 30\n",
      "Sorry better luck next time!!\n"
     ]
    }
   ],
   "source": [
    "score = int(input('Enter the score: '))\n",
    "if score >= 70:\n",
    "    print('Congratulations, You've passed with distinction')\n",
    "elif score >=40 :\n",
    "    print('congratulations, You've passed')\n",
    "else:\n",
    "    print('Sorry better luck next time!!')"
   ]
  },
  {
   "cell_type": "code",
   "execution_count": 47,
   "metadata": {},
   "outputs": [
    {
     "name": "stdout",
     "output_type": "stream",
     "text": [
      "Enter the score: 39.999\n",
      "Sorry better luck next time!!\n"
     ]
    }
   ],
   "source": [
    "# more than 1 elif statement can be used \n",
    "\n",
    "score = eval(input('Enter the score: '))\n",
    "if score >= 90:\n",
    "    print('Congratulations, You've passed with Flying Colours')\n",
    "elif score >=70 :\n",
    "    print('Congratulations, You've passed with Distinction')\n",
    "elif score >=60 :\n",
    "    print('Congratulations, You've passed with First Class')\n",
    "elif score >=50 :\n",
    "    print('Congratulations, You've passed with Second Class')\n",
    "elif score >=40 :\n",
    "    print('Congratulations, You've passed ')\n",
    "else:\n",
    "    print('Sorry better luck next time!!')\n",
    "    \n",
    "# else part is optional"
   ]
  },
  {
   "cell_type": "code",
   "execution_count": 79,
   "metadata": {},
   "outputs": [
    {
     "name": "stdout",
     "output_type": "stream",
     "text": [
      "Enter any 3 numbers: 3257 230 20\n",
      "3257 is greater than 230 and 20\n"
     ]
    }
   ],
   "source": [
    "a,b,c = [eval(x) for x in (input('Enter any 3 numbers: ')).split()]\n",
    "if a>b and a>c:\n",
    "    print(a,'is greater than',b,'and',c)\n",
    "elif b>c:\n",
    "    print(b,'is greater than',a,'and',c)\n",
    "else:\n",
    "    print(c,'is greater than',b,'and',a)\n",
    "    "
   ]
  },
  {
   "cell_type": "code",
   "execution_count": 86,
   "metadata": {},
   "outputs": [
    {
     "name": "stdout",
     "output_type": "stream",
     "text": [
      "Enter a number: 234\n",
      "234 is in between 200 and 300\n"
     ]
    }
   ],
   "source": [
    "a=eval(input('Enter a number: '))\n",
    "min = 200\n",
    "max = 300\n",
    "if a>=min and a<=max:\n",
    "    print(a,'is in between', min, 'and', max)\n",
    "else:\n",
    "    print(a,'is out of range')\n",
    "    "
   ]
  },
  {
   "cell_type": "code",
   "execution_count": 91,
   "metadata": {},
   "outputs": [
    {
     "name": "stdout",
     "output_type": "stream",
     "text": [
      "Enter a number: 26\n",
      "The number 26 is in between 1 and 100\n"
     ]
    }
   ],
   "source": [
    "# print with replacement operator\n",
    "a=eval(input('Enter a number: '))\n",
    "min = 1\n",
    "max = 100\n",
    "if a>=min and a<=max:\n",
    "    print('The number {} is in between {} and {}'.format(a,min,max))\n",
    "else:\n",
    "    print('The number {} is out of range'.format(a))"
   ]
  },
  {
   "cell_type": "code",
   "execution_count": 93,
   "metadata": {},
   "outputs": [
    {
     "name": "stdout",
     "output_type": "stream",
     "text": [
      "Enter a number: 26\n",
      "The number 26 is in between 1 and 100\n"
     ]
    }
   ],
   "source": [
    "# print with formatted string\n",
    "a=eval(input('Enter a number: '))\n",
    "min = 1\n",
    "max = 100\n",
    "if a>=min and a<=max:\n",
    "    print('The number %d is in between %d and %d' %(a,min,max))\n",
    "else:\n",
    "    print('The number %d is out of range' %(a))"
   ]
  },
  {
   "cell_type": "code",
   "execution_count": 1,
   "metadata": {},
   "outputs": [
    {
     "name": "stdout",
     "output_type": "stream",
     "text": [
      "Enter some number from 0 to 9: 7\n",
      "SEVEN\n"
     ]
    }
   ],
   "source": [
    "# to print number in words using user provided number \n",
    "n=int(input('Enter some number from 0 to 9: '))\n",
    "if n==0:\n",
    "    print('ZERO')\n",
    "elif n==1:\n",
    "    print('ONE')\n",
    "elif n==2:\n",
    "    print('TWO')\n",
    "elif n==3:\n",
    "    print('THREE')\n",
    "elif n==4:\n",
    "    print('FOUR')\n",
    "elif n==5:\n",
    "    print('FIVE')\n",
    "elif n==6:\n",
    "    print('SIX')\n",
    "elif n==7:\n",
    "    print('SEVEN')\n",
    "elif n==8:\n",
    "    print('EIGHT')\n",
    "elif n==9:\n",
    "    print('NINE')\n",
    "else:\n",
    "    print('THE NUMBER IS OUT OF RANGE')"
   ]
  },
  {
   "cell_type": "code",
   "execution_count": 6,
   "metadata": {},
   "outputs": [
    {
     "name": "stdout",
     "output_type": "stream",
     "text": [
      "Enter some number from 1 to 10: 10\n",
      "TEN\n"
     ]
    }
   ],
   "source": [
    "List=['ZERO','ONE','TWO','THREE','FOUR','FIVE','SIX','SEVEN','EIGHT','NINE','TEN']\n",
    "\n",
    "\n",
    "n=int(input('Enter some number from 1 to 10: '))\n",
    "print(List[n])"
   ]
  },
  {
   "cell_type": "code",
   "execution_count": 4,
   "metadata": {},
   "outputs": [
    {
     "name": "stdout",
     "output_type": "stream",
     "text": [
      "Enter some number from 0 to 99: 67\n",
      "Sixty Seven\n"
     ]
    }
   ],
   "source": [
    "words_upto_19=['','One','Two','Three','Four','Five','Six','Seven','Eight','Nine','Ten''Eleven','Twelve','Thirteen','Fourteen','Fifteen'\n",
    "       ,'Sixteen','Seventeen','Eighteen','Nineteen']\n",
    "\n",
    "words_for_tens=['','','Twenty','Thirty','Fourty','Fifty','Sixty','Seventy','Eighty','Ninety']\n",
    "\n",
    "n=int(input('Enter some number from 0 to 99: '))\n",
    "\n",
    "if n==0:\n",
    "    print('ZERO')\n",
    "elif n<=19:\n",
    "    print(words_upto_19[n])\n",
    "elif n<=99:\n",
    "    print(words_for_tens[n//10]+' '+ words_upto_19[n%10])\n",
    "else:\n",
    "    print('The given number is out of range')\n"
   ]
  },
  {
   "cell_type": "code",
   "execution_count": 1,
   "metadata": {},
   "outputs": [
    {
     "name": "stdout",
     "output_type": "stream",
     "text": [
      "Enter a number to convert to words : Minimum = 0 and Maximum = 9900009999999.\n",
      "\n",
      " \n",
      "This program can help you within this limit only : 200\n",
      "\n",
      "\n",
      "Here is the word conversion of the number you entered:   Two Hundred and \n",
      "\n"
     ]
    }
   ],
   "source": [
    "n=int(input('''Enter a number to convert to words : Minimum = 0 and Maximum = 9900009999999.\\n\\n \n",
    "This program can help you within this limit only : ''' )) #Take input in numerical\n",
    "\n",
    "highers=['Lakh Crores','Lakh Crore','Hundred Crores','Hundred Crore',\n",
    "'Crores','Crore','Lakhs','Lakh','Thousand','Thousand','Hundreds',\n",
    "'Hundred and']\n",
    "\n",
    "tens=['','','Twenty','Thirty','Fourty','Fifty','Sixty','Seventy','Eighty','Ninety']\n",
    "\n",
    "units=['','One','Two','Three','Four','Five','Six','Seven','Eight','Nine','Ten''Eleven','Twelve','Thirteen','Fourteen','Fifteen'\n",
    "       ,'Sixteen','Seventeen','Eighteen','Nineteen']\n",
    "\n",
    "\n",
    "lakhCrores=(n//100000000000)%100\n",
    "hundredCrores=(n//1000000000)%100\n",
    "crore=(n//10000000)%100#Check number of crores\n",
    "lakh=(n//100000)%100#chech number of lakhs\n",
    "thousand=(n//1000)%100#check number of thousands\n",
    "hundred=(n//100%10)#check number of hundreds\n",
    "rest=(n%100)#check for tens\n",
    "finalword=''# to store the result word\n",
    "\n",
    "if(lakhCrores>0):\n",
    "    if(lakhCrores>9 and lakhCrores<=19):\n",
    "        finalword=finalword+' '+units[lakhCrores]+' '+highers[0]\n",
    "    elif(lakhCrores>19):\n",
    "        finalword=finalword+' '+tens[lakhCrores//10]+' '+units[lakhCrores%10]+' '+highers[0]\n",
    "    else:\n",
    "        finalword=finalword+' '+units[lakhCrores]+' '+highers[1]\n",
    "        \n",
    "\n",
    "if(hundredCrores>0):\n",
    "    if(hundredCrores>9 and hundredCrores<=19):\n",
    "        finalword=finalword+' '+units[hundredCrores]+' '+highers[2]\n",
    "    elif(hundredCrores>19):\n",
    "        finalword=finalword+' '+tens[hundredCrores//10]+' '+units[hundredCrores%10]+' '+highers[2]\n",
    "    else:\n",
    "        finalword=finalword+' '+units[hundredCrores]+' '+highers[3]\n",
    "        \n",
    "if(crore>0):\n",
    "    if(crore>9 and thousand<=19):\n",
    "        finalword=finalword+' '+units[crore]+' '+highers[4]\n",
    "    elif(crore>19):\n",
    "        finalword=finalword+' '+tens[crore//10]+' '+units[crore%10]+' '+highers[4]\n",
    "    else:\n",
    "        finalword=finalword+' '+units[crore]+' '+highers[5]\n",
    "        \n",
    "if(lakh>0):\n",
    "    if(lakh>9 and lakh<=19):\n",
    "        finalword=finalword+' '+units[lakh]+' '+highers[6]\n",
    "    elif(lakh>19):\n",
    "        finalword=finalword+' '+tens[lakh//10]+' '+units[lakh%10]+' '+highers[6]\n",
    "    else:\n",
    "        finalword=finalword+' '+units[lakh]+' '+highers[7]\n",
    "        \n",
    "if(thousand>0):\n",
    "    if(thousand>9 and thousand<20):\n",
    "        finalword=finalword+' '+units[thousand]+' '+highers[8]\n",
    "    elif(thousand>19):\n",
    "        finalword=finalword+' '+tens[thousand//10]+' '+units[thousand%10]+' '+highers[8]\n",
    "    else:\n",
    "        finalword=finalword+' '+units[thousand]+' '+highers[9]\n",
    "        \n",
    "        \n",
    "if(hundred>0):\n",
    "    if(hundred//100):\n",
    "        finalword=finalword+' '+units[hundres%10]+' '+highers[10]\n",
    "    else:\n",
    "        finalword=finalword+' '+units[hundred%10]+' '+highers[11]\n",
    "        \n",
    "if(rest > 19):\n",
    "    finalword=finalword+' '+tens[rest//10]+' '+units[rest%10]\n",
    "else:\n",
    "    finalword=finalword+units[rest]\n",
    "    \n",
    "if (n==0):\n",
    "    finalword='Zero'\n",
    "    \n",
    "print('\\n\\nHere is the word conversion of the number you entered: ',finalword,'\\n') # print the converted word\n"
   ]
  },
  {
   "cell_type": "code",
   "execution_count": null,
   "metadata": {},
   "outputs": [],
   "source": []
  },
  {
   "cell_type": "code",
   "execution_count": null,
   "metadata": {},
   "outputs": [],
   "source": []
  }
 ],
 "metadata": {
  "kernelspec": {
   "display_name": "Python 3",
   "language": "python",
   "name": "python3"
  },
  "language_info": {
   "codemirror_mode": {
    "name": "ipython",
    "version": 3
   },
   "file_extension": ".py",
   "mimetype": "text/x-python",
   "name": "python",
   "nbconvert_exporter": "python",
   "pygments_lexer": "ipython3",
   "version": "3.8.5"
  }
 },
 "nbformat": 4,
 "nbformat_minor": 4
}
